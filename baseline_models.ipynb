{
 "cells": [
  {
   "cell_type": "code",
   "execution_count": 1,
   "id": "33998398-fdf1-4215-87b6-0a34e14781dd",
   "metadata": {},
   "outputs": [],
   "source": [
    "from sklearn.preprocessing import OneHotEncoder\n",
    "from sklearn.compose import ColumnTransformer\n",
    "from sklearn.model_selection import cross_val_predict\n",
    "from sklearn.ensemble import RandomForestClassifier\n",
    "from sklearn.svm import LinearSVC\n",
    "from config import get_base_config\n",
    "from sklearn.model_selection import train_test_split\n",
    "from sklearn.metrics import roc_auc_score\n",
    "from collections import defaultdict\n",
    "import pandas as pd\n",
    "import numpy as np\n",
    "\n",
    "root_dir = %pwd\n",
    "import warnings\n",
    "warnings.filterwarnings('ignore')\n"
   ]
  },
  {
   "cell_type": "code",
   "execution_count": 2,
   "id": "264ccc8b-8575-423e-a069-aeb91f10212a",
   "metadata": {},
   "outputs": [],
   "source": [
    "target_col = 'readmitted'\n",
    "n_seeds = 15"
   ]
  },
  {
   "cell_type": "code",
   "execution_count": 3,
   "id": "35ba3461-599e-4d2d-b76a-fa10dc580bd3",
   "metadata": {},
   "outputs": [],
   "source": [
    "config = get_base_config()\n",
    "\n",
    "df = pd.read_csv(root_dir + \"/data/prepped/prepped_data.csv\", index_col=0)\n",
    "#raw_data = load_data(config)\n",
    "#prep_pipe = build_data_prep_pipe(config)\n",
    "#df = pd.concat(prep_pipe.fit_transform(raw_data), axis=1)\n",
    "\n",
    "df[target_col] = (df[target_col] == 'YES').astype(int)\n",
    "categorical_cols = [col for col in df.select_dtypes(exclude=['float']).columns if col != target_col]\n",
    "\n",
    "ohe = ColumnTransformer(\n",
    "    transformers=[('onehot', OneHotEncoder(), categorical_cols)],\n",
    "    remainder='passthrough'\n",
    ")\n",
    "\n",
    "ohe = ohe.fit(df)\n",
    "onehot_target_mask = np.asarray([s.endswith(target_col) for s in ohe.get_feature_names_out()], bool)\n",
    "assert onehot_target_mask.sum() == 1"
   ]
  },
  {
   "cell_type": "code",
   "execution_count": 4,
   "id": "1bdf9459-5f6b-432a-851e-a5f75d5b2a4d",
   "metadata": {},
   "outputs": [
    {
     "name": "stdout",
     "output_type": "stream",
     "text": [
      "Running cross-val for RandomForest, Seed 0 -> AUC=0.600\n",
      "Running cross-val for SVM, Seed 0 -> AUC=0.580\n",
      "Running cross-val for RandomForest, Seed 1 -> AUC=0.612\n",
      "Running cross-val for SVM, Seed 1 -> AUC=0.555\n",
      "Running cross-val for RandomForest, Seed 2 -> AUC=0.606\n",
      "Running cross-val for SVM, Seed 2 -> AUC=0.588\n",
      "Running cross-val for RandomForest, Seed 3 -> AUC=0.606\n",
      "Running cross-val for SVM, Seed 3 -> AUC=0.561\n",
      "Running cross-val for RandomForest, Seed 4 -> AUC=0.602\n",
      "Running cross-val for SVM, Seed 4 -> AUC=0.537\n",
      "Running cross-val for RandomForest, Seed 5 -> AUC=0.605\n",
      "Running cross-val for SVM, Seed 5 -> AUC=0.611\n",
      "Running cross-val for RandomForest, Seed 6 -> AUC=0.605\n",
      "Running cross-val for SVM, Seed 6 -> AUC=0.543\n",
      "Running cross-val for RandomForest, Seed 7 -> AUC=0.605\n",
      "Running cross-val for SVM, Seed 7 -> AUC=0.531\n",
      "Running cross-val for RandomForest, Seed 8 -> AUC=0.600\n",
      "Running cross-val for SVM, Seed 8 -> AUC=0.577\n",
      "Running cross-val for RandomForest, Seed 9 -> AUC=0.604\n",
      "Running cross-val for SVM, Seed 9 -> AUC=0.559\n",
      "Running cross-val for RandomForest, Seed 10 -> AUC=0.602\n",
      "Running cross-val for SVM, Seed 10 -> AUC=0.536\n",
      "Running cross-val for RandomForest, Seed 11 -> AUC=0.602\n",
      "Running cross-val for SVM, Seed 11 -> AUC=0.562\n",
      "Running cross-val for RandomForest, Seed 12 -> AUC=0.604\n",
      "Running cross-val for SVM, Seed 12 -> AUC=0.531\n",
      "Running cross-val for RandomForest, Seed 13 -> AUC=0.609\n",
      "Running cross-val for SVM, Seed 13 -> AUC=0.534\n",
      "Running cross-val for RandomForest, Seed 14 -> AUC=0.608\n",
      "Running cross-val for SVM, Seed 14 -> AUC=0.560\n",
      "RandomForest AUC Mean=0.605, SD=0.003\n",
      "SVM AUC Mean=0.558, SD=0.023\n"
     ]
    }
   ],
   "source": [
    "aucs = defaultdict(list)\n",
    "for seed in range(n_seeds):\n",
    "\n",
    "    train_set, _ = train_test_split(df, test_size=.2, random_state=seed, stratify=df[target_col])\n",
    "\n",
    "    train_set = ohe.transform(train_set)\n",
    "    y_train = train_set[:, onehot_target_mask].toarray().astype(int).squeeze()\n",
    "    X_train = train_set[:, ~onehot_target_mask].toarray()\n",
    "    del train_set\n",
    "\n",
    "    for estimator_type in ['RandomForest', 'SVM']:\n",
    "\n",
    "        if estimator_type == 'RandomForest':\n",
    "            estimator = RandomForestClassifier(random_state=seed)\n",
    "        elif estimator_type == 'SVM':\n",
    "            estimator = LinearSVC(random_state=seed)\n",
    "        else:\n",
    "            raise ValueError()\n",
    "\n",
    "        print(f\"Running cross-val for {estimator_type}, Seed {seed}\", end=\"\")\n",
    "\n",
    "        method = 'predict_proba' if hasattr(estimator, 'predict_proba') else 'decision_function'\n",
    "        y_score = cross_val_predict(estimator, X_train, y_train, cv=5, method=method).squeeze()\n",
    "        if method == 'predict_proba':\n",
    "            y_score = y_score[:, -1]\n",
    "\n",
    "        auc = roc_auc_score(y_true=y_train, y_score=y_score)\n",
    "        aucs[estimator_type].append(auc)\n",
    "\n",
    "        print(f\" -> AUC={auc:.3f}\")\n",
    "\n",
    "for estimator_type, auc_values in aucs.items():\n",
    "    print(f\"{estimator_type} AUC Mean={np.mean(auc_values):.3f}, SD={np.std(auc_values):.3f}\")"
   ]
  },
  {
   "cell_type": "code",
   "execution_count": null,
   "id": "985b568b-dde7-4059-89cb-ced858391fe0",
   "metadata": {},
   "outputs": [],
   "source": []
  }
 ],
 "metadata": {
  "kernelspec": {
   "display_name": "Python 3 (ipykernel)",
   "language": "python",
   "name": "python3"
  },
  "language_info": {
   "codemirror_mode": {
    "name": "ipython",
    "version": 3
   },
   "file_extension": ".py",
   "mimetype": "text/x-python",
   "name": "python",
   "nbconvert_exporter": "python",
   "pygments_lexer": "ipython3",
   "version": "3.10.13"
  }
 },
 "nbformat": 4,
 "nbformat_minor": 5
}
