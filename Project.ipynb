{
 "cells": [
  {
   "attachments": {},
   "cell_type": "markdown",
   "metadata": {},
   "source": [
    "# Readmition predictor project\n",
    "data: The Diabetes 130-US Hospitals for Years 1999 – 2008 from the UC Irvine ML Repository:\r\n",
    "https://archive.ics.uci.edu/ml/datasets/diabetes+130-us+hospitals+for+years+1999-200\n",
    "\n",
    "\n",
    "## Predict the 30-day readmission rates for patients diagnosed with diabetes upon admission.\n",
    "weusedgtthis article as our starting point for the data manipulation :\n",
    "https://www.hindawi.com/journals/bmri/2014/781670/"
   ]
  },
  {
   "cell_type": "code",
   "execution_count": 483,
   "metadata": {},
   "outputs": [],
   "source": [
    "import os\n",
    "import pandas as pd\n",
    "import datetime\n",
    "from os import listdir\n",
    "from os.path import isfile, join\n",
    "import glob\n",
    "import re\n",
    "import numpy as np\n",
    "import seaborn as sns\n",
    "import matplotlib.pyplot as plt\n",
    "from IPython.core.interactiveshell import InteractiveShell\n",
    "\n",
    "# Force printing all the variables in each cell, not just the last one: \n",
    "InteractiveShell.ast_node_interactivity = \"all\"\n"
   ]
  },
  {
   "cell_type": "markdown",
   "metadata": {},
   "source": [
    "# 1. read the data "
   ]
  },
  {
   "cell_type": "markdown",
   "metadata": {},
   "source": [
    "The dataset covers 10 years (1998-2008) of diabetes patient data gathered from 130 US hospitals having 70,000 distinct patients. Every record was labelled as to whether the patient was readmitted within 30 days, readmitted after 30 days, or not readmitted at all. "
   ]
  },
  {
   "cell_type": "markdown",
   "metadata": {},
   "source": [
    "# List of features and their descriptions in the initial dataset (the dataset is also available at the website of Data Mining and Biomedical Informatics Lab at VCU\n",
    "\n",
    "https://www.hindawi.com/journals/bmri/2014/781670/tab1/"
   ]
  },
  {
   "cell_type": "code",
   "execution_count": 484,
   "metadata": {},
   "outputs": [],
   "source": [
    "path_to_data = 'C://Users/dekel//Desktop//python-tutorials-AMLLS-20231218T140422Z-001//python-tutorials-AMLLS//Project//'\n",
    "df = pd.read_csv(path_to_data + \"diabetic_data.csv\", index_col = 0)"
   ]
  },
  {
   "cell_type": "code",
   "execution_count": 485,
   "metadata": {},
   "outputs": [
    {
     "name": "stdout",
     "output_type": "stream",
     "text": [
      "<class 'pandas.core.frame.DataFrame'>\n",
      "Int64Index: 101766 entries, 2278392 to 443867222\n",
      "Data columns (total 49 columns):\n",
      " #   Column                    Non-Null Count   Dtype \n",
      "---  ------                    --------------   ----- \n",
      " 0   patient_nbr               101766 non-null  int64 \n",
      " 1   race                      101766 non-null  object\n",
      " 2   gender                    101766 non-null  object\n",
      " 3   age                       101766 non-null  object\n",
      " 4   weight                    101766 non-null  object\n",
      " 5   admission_type_id         101766 non-null  int64 \n",
      " 6   discharge_disposition_id  101766 non-null  int64 \n",
      " 7   admission_source_id       101766 non-null  int64 \n",
      " 8   time_in_hospital          101766 non-null  int64 \n",
      " 9   payer_code                101766 non-null  object\n",
      " 10  medical_specialty         101766 non-null  object\n",
      " 11  num_lab_procedures        101766 non-null  int64 \n",
      " 12  num_procedures            101766 non-null  int64 \n",
      " 13  num_medications           101766 non-null  int64 \n",
      " 14  number_outpatient         101766 non-null  int64 \n",
      " 15  number_emergency          101766 non-null  int64 \n",
      " 16  number_inpatient          101766 non-null  int64 \n",
      " 17  diag_1                    101766 non-null  object\n",
      " 18  diag_2                    101766 non-null  object\n",
      " 19  diag_3                    101766 non-null  object\n",
      " 20  number_diagnoses          101766 non-null  int64 \n",
      " 21  max_glu_serum             101766 non-null  object\n",
      " 22  A1Cresult                 101766 non-null  object\n",
      " 23  metformin                 101766 non-null  object\n",
      " 24  repaglinide               101766 non-null  object\n",
      " 25  nateglinide               101766 non-null  object\n",
      " 26  chlorpropamide            101766 non-null  object\n",
      " 27  glimepiride               101766 non-null  object\n",
      " 28  acetohexamide             101766 non-null  object\n",
      " 29  glipizide                 101766 non-null  object\n",
      " 30  glyburide                 101766 non-null  object\n",
      " 31  tolbutamide               101766 non-null  object\n",
      " 32  pioglitazone              101766 non-null  object\n",
      " 33  rosiglitazone             101766 non-null  object\n",
      " 34  acarbose                  101766 non-null  object\n",
      " 35  miglitol                  101766 non-null  object\n",
      " 36  troglitazone              101766 non-null  object\n",
      " 37  tolazamide                101766 non-null  object\n",
      " 38  examide                   101766 non-null  object\n",
      " 39  citoglipton               101766 non-null  object\n",
      " 40  insulin                   101766 non-null  object\n",
      " 41  glyburide-metformin       101766 non-null  object\n",
      " 42  glipizide-metformin       101766 non-null  object\n",
      " 43  glimepiride-pioglitazone  101766 non-null  object\n",
      " 44  metformin-rosiglitazone   101766 non-null  object\n",
      " 45  metformin-pioglitazone    101766 non-null  object\n",
      " 46  change                    101766 non-null  object\n",
      " 47  diabetesMed               101766 non-null  object\n",
      " 48  readmitted                101766 non-null  object\n",
      "dtypes: int64(12), object(37)\n",
      "memory usage: 38.8+ MB\n"
     ]
    },
    {
     "data": {
      "text/html": [
       "<div>\n",
       "<style scoped>\n",
       "    .dataframe tbody tr th:only-of-type {\n",
       "        vertical-align: middle;\n",
       "    }\n",
       "\n",
       "    .dataframe tbody tr th {\n",
       "        vertical-align: top;\n",
       "    }\n",
       "\n",
       "    .dataframe thead th {\n",
       "        text-align: right;\n",
       "    }\n",
       "</style>\n",
       "<table border=\"1\" class=\"dataframe\">\n",
       "  <thead>\n",
       "    <tr style=\"text-align: right;\">\n",
       "      <th></th>\n",
       "      <th>patient_nbr</th>\n",
       "      <th>race</th>\n",
       "      <th>gender</th>\n",
       "      <th>age</th>\n",
       "      <th>weight</th>\n",
       "      <th>admission_type_id</th>\n",
       "      <th>discharge_disposition_id</th>\n",
       "      <th>admission_source_id</th>\n",
       "      <th>time_in_hospital</th>\n",
       "      <th>payer_code</th>\n",
       "      <th>...</th>\n",
       "      <th>citoglipton</th>\n",
       "      <th>insulin</th>\n",
       "      <th>glyburide-metformin</th>\n",
       "      <th>glipizide-metformin</th>\n",
       "      <th>glimepiride-pioglitazone</th>\n",
       "      <th>metformin-rosiglitazone</th>\n",
       "      <th>metformin-pioglitazone</th>\n",
       "      <th>change</th>\n",
       "      <th>diabetesMed</th>\n",
       "      <th>readmitted</th>\n",
       "    </tr>\n",
       "    <tr>\n",
       "      <th>encounter_id</th>\n",
       "      <th></th>\n",
       "      <th></th>\n",
       "      <th></th>\n",
       "      <th></th>\n",
       "      <th></th>\n",
       "      <th></th>\n",
       "      <th></th>\n",
       "      <th></th>\n",
       "      <th></th>\n",
       "      <th></th>\n",
       "      <th></th>\n",
       "      <th></th>\n",
       "      <th></th>\n",
       "      <th></th>\n",
       "      <th></th>\n",
       "      <th></th>\n",
       "      <th></th>\n",
       "      <th></th>\n",
       "      <th></th>\n",
       "      <th></th>\n",
       "      <th></th>\n",
       "    </tr>\n",
       "  </thead>\n",
       "  <tbody>\n",
       "    <tr>\n",
       "      <th>2278392</th>\n",
       "      <td>8222157</td>\n",
       "      <td>Caucasian</td>\n",
       "      <td>Female</td>\n",
       "      <td>[0-10)</td>\n",
       "      <td>?</td>\n",
       "      <td>6</td>\n",
       "      <td>25</td>\n",
       "      <td>1</td>\n",
       "      <td>1</td>\n",
       "      <td>?</td>\n",
       "      <td>...</td>\n",
       "      <td>No</td>\n",
       "      <td>No</td>\n",
       "      <td>No</td>\n",
       "      <td>No</td>\n",
       "      <td>No</td>\n",
       "      <td>No</td>\n",
       "      <td>No</td>\n",
       "      <td>No</td>\n",
       "      <td>No</td>\n",
       "      <td>NO</td>\n",
       "    </tr>\n",
       "    <tr>\n",
       "      <th>149190</th>\n",
       "      <td>55629189</td>\n",
       "      <td>Caucasian</td>\n",
       "      <td>Female</td>\n",
       "      <td>[10-20)</td>\n",
       "      <td>?</td>\n",
       "      <td>1</td>\n",
       "      <td>1</td>\n",
       "      <td>7</td>\n",
       "      <td>3</td>\n",
       "      <td>?</td>\n",
       "      <td>...</td>\n",
       "      <td>No</td>\n",
       "      <td>Up</td>\n",
       "      <td>No</td>\n",
       "      <td>No</td>\n",
       "      <td>No</td>\n",
       "      <td>No</td>\n",
       "      <td>No</td>\n",
       "      <td>Ch</td>\n",
       "      <td>Yes</td>\n",
       "      <td>&gt;30</td>\n",
       "    </tr>\n",
       "    <tr>\n",
       "      <th>64410</th>\n",
       "      <td>86047875</td>\n",
       "      <td>AfricanAmerican</td>\n",
       "      <td>Female</td>\n",
       "      <td>[20-30)</td>\n",
       "      <td>?</td>\n",
       "      <td>1</td>\n",
       "      <td>1</td>\n",
       "      <td>7</td>\n",
       "      <td>2</td>\n",
       "      <td>?</td>\n",
       "      <td>...</td>\n",
       "      <td>No</td>\n",
       "      <td>No</td>\n",
       "      <td>No</td>\n",
       "      <td>No</td>\n",
       "      <td>No</td>\n",
       "      <td>No</td>\n",
       "      <td>No</td>\n",
       "      <td>No</td>\n",
       "      <td>Yes</td>\n",
       "      <td>NO</td>\n",
       "    </tr>\n",
       "    <tr>\n",
       "      <th>500364</th>\n",
       "      <td>82442376</td>\n",
       "      <td>Caucasian</td>\n",
       "      <td>Male</td>\n",
       "      <td>[30-40)</td>\n",
       "      <td>?</td>\n",
       "      <td>1</td>\n",
       "      <td>1</td>\n",
       "      <td>7</td>\n",
       "      <td>2</td>\n",
       "      <td>?</td>\n",
       "      <td>...</td>\n",
       "      <td>No</td>\n",
       "      <td>Up</td>\n",
       "      <td>No</td>\n",
       "      <td>No</td>\n",
       "      <td>No</td>\n",
       "      <td>No</td>\n",
       "      <td>No</td>\n",
       "      <td>Ch</td>\n",
       "      <td>Yes</td>\n",
       "      <td>NO</td>\n",
       "    </tr>\n",
       "    <tr>\n",
       "      <th>16680</th>\n",
       "      <td>42519267</td>\n",
       "      <td>Caucasian</td>\n",
       "      <td>Male</td>\n",
       "      <td>[40-50)</td>\n",
       "      <td>?</td>\n",
       "      <td>1</td>\n",
       "      <td>1</td>\n",
       "      <td>7</td>\n",
       "      <td>1</td>\n",
       "      <td>?</td>\n",
       "      <td>...</td>\n",
       "      <td>No</td>\n",
       "      <td>Steady</td>\n",
       "      <td>No</td>\n",
       "      <td>No</td>\n",
       "      <td>No</td>\n",
       "      <td>No</td>\n",
       "      <td>No</td>\n",
       "      <td>Ch</td>\n",
       "      <td>Yes</td>\n",
       "      <td>NO</td>\n",
       "    </tr>\n",
       "  </tbody>\n",
       "</table>\n",
       "<p>5 rows × 49 columns</p>\n",
       "</div>"
      ],
      "text/plain": [
       "              patient_nbr             race  gender      age weight  \\\n",
       "encounter_id                                                         \n",
       "2278392           8222157        Caucasian  Female   [0-10)      ?   \n",
       "149190           55629189        Caucasian  Female  [10-20)      ?   \n",
       "64410            86047875  AfricanAmerican  Female  [20-30)      ?   \n",
       "500364           82442376        Caucasian    Male  [30-40)      ?   \n",
       "16680            42519267        Caucasian    Male  [40-50)      ?   \n",
       "\n",
       "              admission_type_id  discharge_disposition_id  \\\n",
       "encounter_id                                                \n",
       "2278392                       6                        25   \n",
       "149190                        1                         1   \n",
       "64410                         1                         1   \n",
       "500364                        1                         1   \n",
       "16680                         1                         1   \n",
       "\n",
       "              admission_source_id  time_in_hospital payer_code  ...  \\\n",
       "encounter_id                                                    ...   \n",
       "2278392                         1                 1          ?  ...   \n",
       "149190                          7                 3          ?  ...   \n",
       "64410                           7                 2          ?  ...   \n",
       "500364                          7                 2          ?  ...   \n",
       "16680                           7                 1          ?  ...   \n",
       "\n",
       "             citoglipton  insulin  glyburide-metformin  glipizide-metformin  \\\n",
       "encounter_id                                                                  \n",
       "2278392               No       No                   No                   No   \n",
       "149190                No       Up                   No                   No   \n",
       "64410                 No       No                   No                   No   \n",
       "500364                No       Up                   No                   No   \n",
       "16680                 No   Steady                   No                   No   \n",
       "\n",
       "              glimepiride-pioglitazone  metformin-rosiglitazone  \\\n",
       "encounter_id                                                      \n",
       "2278392                             No                       No   \n",
       "149190                              No                       No   \n",
       "64410                               No                       No   \n",
       "500364                              No                       No   \n",
       "16680                               No                       No   \n",
       "\n",
       "              metformin-pioglitazone change diabetesMed readmitted  \n",
       "encounter_id                                                        \n",
       "2278392                           No     No          No         NO  \n",
       "149190                            No     Ch         Yes        >30  \n",
       "64410                             No     No         Yes         NO  \n",
       "500364                            No     Ch         Yes         NO  \n",
       "16680                             No     Ch         Yes         NO  \n",
       "\n",
       "[5 rows x 49 columns]"
      ]
     },
     "execution_count": 485,
     "metadata": {},
     "output_type": "execute_result"
    }
   ],
   "source": [
    "df.info()\n",
    "df.head()"
   ]
  },
  {
   "cell_type": "markdown",
   "metadata": {},
   "source": [
    "In this dataframe the missing values are marked as '?'\n",
    "First We will change in to nan"
   ]
  },
  {
   "cell_type": "code",
   "execution_count": 486,
   "metadata": {},
   "outputs": [],
   "source": [
    "df.replace('?', np.nan, inplace=True)"
   ]
  },
  {
   "cell_type": "markdown",
   "metadata": {},
   "source": [
    "We want to know which columns have missing values.:"
   ]
  },
  {
   "cell_type": "code",
   "execution_count": 487,
   "metadata": {},
   "outputs": [
    {
     "name": "stdout",
     "output_type": "stream",
     "text": [
      "<class 'pandas.core.frame.DataFrame'>\n",
      "Int64Index: 101766 entries, 2278392 to 443867222\n",
      "Data columns (total 49 columns):\n",
      " #   Column                    Non-Null Count   Dtype \n",
      "---  ------                    --------------   ----- \n",
      " 0   patient_nbr               101766 non-null  int64 \n",
      " 1   race                      99493 non-null   object\n",
      " 2   gender                    101766 non-null  object\n",
      " 3   age                       101766 non-null  object\n",
      " 4   weight                    3197 non-null    object\n",
      " 5   admission_type_id         101766 non-null  int64 \n",
      " 6   discharge_disposition_id  101766 non-null  int64 \n",
      " 7   admission_source_id       101766 non-null  int64 \n",
      " 8   time_in_hospital          101766 non-null  int64 \n",
      " 9   payer_code                61510 non-null   object\n",
      " 10  medical_specialty         51817 non-null   object\n",
      " 11  num_lab_procedures        101766 non-null  int64 \n",
      " 12  num_procedures            101766 non-null  int64 \n",
      " 13  num_medications           101766 non-null  int64 \n",
      " 14  number_outpatient         101766 non-null  int64 \n",
      " 15  number_emergency          101766 non-null  int64 \n",
      " 16  number_inpatient          101766 non-null  int64 \n",
      " 17  diag_1                    101745 non-null  object\n",
      " 18  diag_2                    101408 non-null  object\n",
      " 19  diag_3                    100343 non-null  object\n",
      " 20  number_diagnoses          101766 non-null  int64 \n",
      " 21  max_glu_serum             101766 non-null  object\n",
      " 22  A1Cresult                 101766 non-null  object\n",
      " 23  metformin                 101766 non-null  object\n",
      " 24  repaglinide               101766 non-null  object\n",
      " 25  nateglinide               101766 non-null  object\n",
      " 26  chlorpropamide            101766 non-null  object\n",
      " 27  glimepiride               101766 non-null  object\n",
      " 28  acetohexamide             101766 non-null  object\n",
      " 29  glipizide                 101766 non-null  object\n",
      " 30  glyburide                 101766 non-null  object\n",
      " 31  tolbutamide               101766 non-null  object\n",
      " 32  pioglitazone              101766 non-null  object\n",
      " 33  rosiglitazone             101766 non-null  object\n",
      " 34  acarbose                  101766 non-null  object\n",
      " 35  miglitol                  101766 non-null  object\n",
      " 36  troglitazone              101766 non-null  object\n",
      " 37  tolazamide                101766 non-null  object\n",
      " 38  examide                   101766 non-null  object\n",
      " 39  citoglipton               101766 non-null  object\n",
      " 40  insulin                   101766 non-null  object\n",
      " 41  glyburide-metformin       101766 non-null  object\n",
      " 42  glipizide-metformin       101766 non-null  object\n",
      " 43  glimepiride-pioglitazone  101766 non-null  object\n",
      " 44  metformin-rosiglitazone   101766 non-null  object\n",
      " 45  metformin-pioglitazone    101766 non-null  object\n",
      " 46  change                    101766 non-null  object\n",
      " 47  diabetesMed               101766 non-null  object\n",
      " 48  readmitted                101766 non-null  object\n",
      "dtypes: int64(12), object(37)\n",
      "memory usage: 38.8+ MB\n",
      "                              Column  Missing Count  Missing Percentage\n",
      "race                            race           2273            2.233555\n",
      "weight                        weight          98569           96.858479\n",
      "payer_code                payer_code          40256           39.557416\n",
      "medical_specialty  medical_specialty          49949           49.082208\n",
      "diag_1                        diag_1             21            0.020636\n",
      "diag_2                        diag_2            358            0.351787\n",
      "diag_3                        diag_3           1423            1.398306\n"
     ]
    }
   ],
   "source": [
    "\n",
    "missing_info = df.info()\n",
    "\n",
    "# Extract column-wise missing values\n",
    "missing_values = df.isnull().sum()\n",
    "\n",
    "# Filter columns with missing values\n",
    "columns_with_missing = missing_values[missing_values > 0].index.tolist()\n",
    "\n",
    "# Calculate percentage of missing values for each column\n",
    "missing_percentage = (missing_values / len(df)) * 100\n",
    "\n",
    "# Create a DataFrame to display the information\n",
    "missing_info_df = pd.DataFrame({\n",
    "    'Column': columns_with_missing,\n",
    "    'Missing Count': missing_values[columns_with_missing],\n",
    "    'Missing Percentage': missing_percentage[columns_with_missing]\n",
    "})\n",
    "\n",
    "# Print the DataFrame\n",
    "print(missing_info_df)"
   ]
  },
  {
   "cell_type": "markdown",
   "metadata": {},
   "source": [
    "The original database contains incomplete, redundant, and noisy information as expected in any real-world data. There were several features that could not be treated directly since they had a high percentage of missing values. These features are weight (97% values missing), payer code (40%), and medical specialty (49%). Weight attribute was considered to be too sparse and it was not included in further analysis. Payer code is removed since it had a high percentage of missing values and it was not considered relevant to the outcome. Medical specialty attribute was maintained, adding the value “missing” in order to account for missing values."
   ]
  },
  {
   "cell_type": "code",
   "execution_count": 488,
   "metadata": {
    "scrolled": true
   },
   "outputs": [
    {
     "data": {
      "text/plain": [
       "<Axes: xlabel='weight', ylabel='count'>"
      ]
     },
     "execution_count": 488,
     "metadata": {},
     "output_type": "execute_result"
    },
    {
     "data": {
      "text/plain": [
       "Text(0, 10, '1.3%')"
      ]
     },
     "execution_count": 488,
     "metadata": {},
     "output_type": "execute_result"
    },
    {
     "data": {
      "text/plain": [
       "Text(0, 10, '0.9%')"
      ]
     },
     "execution_count": 488,
     "metadata": {},
     "output_type": "execute_result"
    },
    {
     "data": {
      "text/plain": [
       "Text(0, 10, '0.6%')"
      ]
     },
     "execution_count": 488,
     "metadata": {},
     "output_type": "execute_result"
    },
    {
     "data": {
      "text/plain": [
       "Text(0, 10, '0.1%')"
      ]
     },
     "execution_count": 488,
     "metadata": {},
     "output_type": "execute_result"
    },
    {
     "data": {
      "text/plain": [
       "Text(0, 10, '0.1%')"
      ]
     },
     "execution_count": 488,
     "metadata": {},
     "output_type": "execute_result"
    },
    {
     "data": {
      "text/plain": [
       "Text(0, 10, '0.0%')"
      ]
     },
     "execution_count": 488,
     "metadata": {},
     "output_type": "execute_result"
    },
    {
     "data": {
      "text/plain": [
       "Text(0, 10, '0.0%')"
      ]
     },
     "execution_count": 488,
     "metadata": {},
     "output_type": "execute_result"
    },
    {
     "data": {
      "text/plain": [
       "Text(0, 10, '0.0%')"
      ]
     },
     "execution_count": 488,
     "metadata": {},
     "output_type": "execute_result"
    },
    {
     "data": {
      "text/plain": [
       "Text(0, 10, '0.0%')"
      ]
     },
     "execution_count": 488,
     "metadata": {},
     "output_type": "execute_result"
    },
    {
     "data": {
      "text/plain": [
       "Text(0.5, 1.0, 'Histogram of weight')"
      ]
     },
     "execution_count": 488,
     "metadata": {},
     "output_type": "execute_result"
    },
    {
     "data": {
      "text/plain": [
       "Text(0.5, 0, 'weight')"
      ]
     },
     "execution_count": 488,
     "metadata": {},
     "output_type": "execute_result"
    },
    {
     "data": {
      "text/plain": [
       "Text(0, 0.5, 'percent')"
      ]
     },
     "execution_count": 488,
     "metadata": {},
     "output_type": "execute_result"
    },
    {
     "data": {
      "text/plain": [
       "<Axes: xlabel='payer_code', ylabel='count'>"
      ]
     },
     "execution_count": 488,
     "metadata": {},
     "output_type": "execute_result"
    },
    {
     "data": {
      "text/plain": [
       "Text(0, 10, '31.9%')"
      ]
     },
     "execution_count": 488,
     "metadata": {},
     "output_type": "execute_result"
    },
    {
     "data": {
      "text/plain": [
       "Text(0, 10, '6.2%')"
      ]
     },
     "execution_count": 488,
     "metadata": {},
     "output_type": "execute_result"
    },
    {
     "data": {
      "text/plain": [
       "Text(0, 10, '4.9%')"
      ]
     },
     "execution_count": 488,
     "metadata": {},
     "output_type": "execute_result"
    },
    {
     "data": {
      "text/plain": [
       "Text(0, 10, '4.6%')"
      ]
     },
     "execution_count": 488,
     "metadata": {},
     "output_type": "execute_result"
    },
    {
     "data": {
      "text/plain": [
       "Text(0, 10, '3.5%')"
      ]
     },
     "execution_count": 488,
     "metadata": {},
     "output_type": "execute_result"
    },
    {
     "data": {
      "text/plain": [
       "Text(0, 10, '2.5%')"
      ]
     },
     "execution_count": 488,
     "metadata": {},
     "output_type": "execute_result"
    },
    {
     "data": {
      "text/plain": [
       "Text(0, 10, '2.4%')"
      ]
     },
     "execution_count": 488,
     "metadata": {},
     "output_type": "execute_result"
    },
    {
     "data": {
      "text/plain": [
       "Text(0, 10, '1.9%')"
      ]
     },
     "execution_count": 488,
     "metadata": {},
     "output_type": "execute_result"
    },
    {
     "data": {
      "text/plain": [
       "Text(0, 10, '1.0%')"
      ]
     },
     "execution_count": 488,
     "metadata": {},
     "output_type": "execute_result"
    },
    {
     "data": {
      "text/plain": [
       "Text(0, 10, '0.6%')"
      ]
     },
     "execution_count": 488,
     "metadata": {},
     "output_type": "execute_result"
    },
    {
     "data": {
      "text/plain": [
       "Text(0, 10, '0.5%')"
      ]
     },
     "execution_count": 488,
     "metadata": {},
     "output_type": "execute_result"
    },
    {
     "data": {
      "text/plain": [
       "Text(0, 10, '0.1%')"
      ]
     },
     "execution_count": 488,
     "metadata": {},
     "output_type": "execute_result"
    },
    {
     "data": {
      "text/plain": [
       "Text(0, 10, '0.1%')"
      ]
     },
     "execution_count": 488,
     "metadata": {},
     "output_type": "execute_result"
    },
    {
     "data": {
      "text/plain": [
       "Text(0, 10, '0.1%')"
      ]
     },
     "execution_count": 488,
     "metadata": {},
     "output_type": "execute_result"
    },
    {
     "data": {
      "text/plain": [
       "Text(0, 10, '0.1%')"
      ]
     },
     "execution_count": 488,
     "metadata": {},
     "output_type": "execute_result"
    },
    {
     "data": {
      "text/plain": [
       "Text(0, 10, '0.1%')"
      ]
     },
     "execution_count": 488,
     "metadata": {},
     "output_type": "execute_result"
    },
    {
     "data": {
      "text/plain": [
       "Text(0, 10, '0.0%')"
      ]
     },
     "execution_count": 488,
     "metadata": {},
     "output_type": "execute_result"
    },
    {
     "data": {
      "text/plain": [
       "Text(0.5, 1.0, 'Histogram of payer_code')"
      ]
     },
     "execution_count": 488,
     "metadata": {},
     "output_type": "execute_result"
    },
    {
     "data": {
      "text/plain": [
       "Text(0.5, 0, 'payer_code')"
      ]
     },
     "execution_count": 488,
     "metadata": {},
     "output_type": "execute_result"
    },
    {
     "data": {
      "text/plain": [
       "Text(0, 0.5, 'percent')"
      ]
     },
     "execution_count": 488,
     "metadata": {},
     "output_type": "execute_result"
    },
    {
     "data": {
      "text/plain": [
       "<Axes: xlabel='medical_specialty', ylabel='count'>"
      ]
     },
     "execution_count": 488,
     "metadata": {},
     "output_type": "execute_result"
    },
    {
     "data": {
      "text/plain": [
       "Text(0, 10, '14.4%')"
      ]
     },
     "execution_count": 488,
     "metadata": {},
     "output_type": "execute_result"
    },
    {
     "data": {
      "text/plain": [
       "Text(0, 10, '7.4%')"
      ]
     },
     "execution_count": 488,
     "metadata": {},
     "output_type": "execute_result"
    },
    {
     "data": {
      "text/plain": [
       "Text(0, 10, '7.3%')"
      ]
     },
     "execution_count": 488,
     "metadata": {},
     "output_type": "execute_result"
    },
    {
     "data": {
      "text/plain": [
       "Text(0, 10, '5.3%')"
      ]
     },
     "execution_count": 488,
     "metadata": {},
     "output_type": "execute_result"
    },
    {
     "data": {
      "text/plain": [
       "Text(0, 10, '3.0%')"
      ]
     },
     "execution_count": 488,
     "metadata": {},
     "output_type": "execute_result"
    },
    {
     "data": {
      "text/plain": [
       "Text(0, 10, '1.6%')"
      ]
     },
     "execution_count": 488,
     "metadata": {},
     "output_type": "execute_result"
    },
    {
     "data": {
      "text/plain": [
       "Text(0, 10, '1.4%')"
      ]
     },
     "execution_count": 488,
     "metadata": {},
     "output_type": "execute_result"
    },
    {
     "data": {
      "text/plain": [
       "Text(0, 10, '1.2%')"
      ]
     },
     "execution_count": 488,
     "metadata": {},
     "output_type": "execute_result"
    },
    {
     "data": {
      "text/plain": [
       "Text(0, 10, '1.1%')"
      ]
     },
     "execution_count": 488,
     "metadata": {},
     "output_type": "execute_result"
    },
    {
     "data": {
      "text/plain": [
       "Text(0, 10, '0.9%')"
      ]
     },
     "execution_count": 488,
     "metadata": {},
     "output_type": "execute_result"
    },
    {
     "data": {
      "text/plain": [
       "Text(0, 10, '0.8%')"
      ]
     },
     "execution_count": 488,
     "metadata": {},
     "output_type": "execute_result"
    },
    {
     "data": {
      "text/plain": [
       "Text(0, 10, '0.7%')"
      ]
     },
     "execution_count": 488,
     "metadata": {},
     "output_type": "execute_result"
    },
    {
     "data": {
      "text/plain": [
       "Text(0, 10, '0.7%')"
      ]
     },
     "execution_count": 488,
     "metadata": {},
     "output_type": "execute_result"
    },
    {
     "data": {
      "text/plain": [
       "Text(0, 10, '0.6%')"
      ]
     },
     "execution_count": 488,
     "metadata": {},
     "output_type": "execute_result"
    },
    {
     "data": {
      "text/plain": [
       "Text(0, 10, '0.6%')"
      ]
     },
     "execution_count": 488,
     "metadata": {},
     "output_type": "execute_result"
    },
    {
     "data": {
      "text/plain": [
       "Text(0, 10, '0.5%')"
      ]
     },
     "execution_count": 488,
     "metadata": {},
     "output_type": "execute_result"
    },
    {
     "data": {
      "text/plain": [
       "Text(0, 10, '0.5%')"
      ]
     },
     "execution_count": 488,
     "metadata": {},
     "output_type": "execute_result"
    },
    {
     "data": {
      "text/plain": [
       "Text(0, 10, '0.4%')"
      ]
     },
     "execution_count": 488,
     "metadata": {},
     "output_type": "execute_result"
    },
    {
     "data": {
      "text/plain": [
       "Text(0, 10, '0.3%')"
      ]
     },
     "execution_count": 488,
     "metadata": {},
     "output_type": "execute_result"
    },
    {
     "data": {
      "text/plain": [
       "Text(0, 10, '0.2%')"
      ]
     },
     "execution_count": 488,
     "metadata": {},
     "output_type": "execute_result"
    },
    {
     "data": {
      "text/plain": [
       "Text(0, 10, '0.2%')"
      ]
     },
     "execution_count": 488,
     "metadata": {},
     "output_type": "execute_result"
    },
    {
     "data": {
      "text/plain": [
       "Text(0, 10, '0.2%')"
      ]
     },
     "execution_count": 488,
     "metadata": {},
     "output_type": "execute_result"
    },
    {
     "data": {
      "text/plain": [
       "Text(0, 10, '0.2%')"
      ]
     },
     "execution_count": 488,
     "metadata": {},
     "output_type": "execute_result"
    },
    {
     "data": {
      "text/plain": [
       "Text(0, 10, '0.1%')"
      ]
     },
     "execution_count": 488,
     "metadata": {},
     "output_type": "execute_result"
    },
    {
     "data": {
      "text/plain": [
       "Text(0, 10, '0.1%')"
      ]
     },
     "execution_count": 488,
     "metadata": {},
     "output_type": "execute_result"
    },
    {
     "data": {
      "text/plain": [
       "Text(0, 10, '0.1%')"
      ]
     },
     "execution_count": 488,
     "metadata": {},
     "output_type": "execute_result"
    },
    {
     "data": {
      "text/plain": [
       "Text(0, 10, '0.1%')"
      ]
     },
     "execution_count": 488,
     "metadata": {},
     "output_type": "execute_result"
    },
    {
     "data": {
      "text/plain": [
       "Text(0, 10, '0.1%')"
      ]
     },
     "execution_count": 488,
     "metadata": {},
     "output_type": "execute_result"
    },
    {
     "data": {
      "text/plain": [
       "Text(0, 10, '0.1%')"
      ]
     },
     "execution_count": 488,
     "metadata": {},
     "output_type": "execute_result"
    },
    {
     "data": {
      "text/plain": [
       "Text(0, 10, '0.1%')"
      ]
     },
     "execution_count": 488,
     "metadata": {},
     "output_type": "execute_result"
    },
    {
     "data": {
      "text/plain": [
       "Text(0, 10, '0.1%')"
      ]
     },
     "execution_count": 488,
     "metadata": {},
     "output_type": "execute_result"
    },
    {
     "data": {
      "text/plain": [
       "Text(0, 10, '0.1%')"
      ]
     },
     "execution_count": 488,
     "metadata": {},
     "output_type": "execute_result"
    },
    {
     "data": {
      "text/plain": [
       "Text(0, 10, '0.1%')"
      ]
     },
     "execution_count": 488,
     "metadata": {},
     "output_type": "execute_result"
    },
    {
     "data": {
      "text/plain": [
       "Text(0, 10, '0.1%')"
      ]
     },
     "execution_count": 488,
     "metadata": {},
     "output_type": "execute_result"
    },
    {
     "data": {
      "text/plain": [
       "Text(0, 10, '0.0%')"
      ]
     },
     "execution_count": 488,
     "metadata": {},
     "output_type": "execute_result"
    },
    {
     "data": {
      "text/plain": [
       "Text(0, 10, '0.0%')"
      ]
     },
     "execution_count": 488,
     "metadata": {},
     "output_type": "execute_result"
    },
    {
     "data": {
      "text/plain": [
       "Text(0, 10, '0.0%')"
      ]
     },
     "execution_count": 488,
     "metadata": {},
     "output_type": "execute_result"
    },
    {
     "data": {
      "text/plain": [
       "Text(0, 10, '0.0%')"
      ]
     },
     "execution_count": 488,
     "metadata": {},
     "output_type": "execute_result"
    },
    {
     "data": {
      "text/plain": [
       "Text(0, 10, '0.0%')"
      ]
     },
     "execution_count": 488,
     "metadata": {},
     "output_type": "execute_result"
    },
    {
     "data": {
      "text/plain": [
       "Text(0, 10, '0.0%')"
      ]
     },
     "execution_count": 488,
     "metadata": {},
     "output_type": "execute_result"
    },
    {
     "data": {
      "text/plain": [
       "Text(0, 10, '0.0%')"
      ]
     },
     "execution_count": 488,
     "metadata": {},
     "output_type": "execute_result"
    },
    {
     "data": {
      "text/plain": [
       "Text(0, 10, '0.0%')"
      ]
     },
     "execution_count": 488,
     "metadata": {},
     "output_type": "execute_result"
    },
    {
     "data": {
      "text/plain": [
       "Text(0, 10, '0.0%')"
      ]
     },
     "execution_count": 488,
     "metadata": {},
     "output_type": "execute_result"
    },
    {
     "data": {
      "text/plain": [
       "Text(0, 10, '0.0%')"
      ]
     },
     "execution_count": 488,
     "metadata": {},
     "output_type": "execute_result"
    },
    {
     "data": {
      "text/plain": [
       "Text(0, 10, '0.0%')"
      ]
     },
     "execution_count": 488,
     "metadata": {},
     "output_type": "execute_result"
    },
    {
     "data": {
      "text/plain": [
       "Text(0, 10, '0.0%')"
      ]
     },
     "execution_count": 488,
     "metadata": {},
     "output_type": "execute_result"
    },
    {
     "data": {
      "text/plain": [
       "Text(0, 10, '0.0%')"
      ]
     },
     "execution_count": 488,
     "metadata": {},
     "output_type": "execute_result"
    },
    {
     "data": {
      "text/plain": [
       "Text(0, 10, '0.0%')"
      ]
     },
     "execution_count": 488,
     "metadata": {},
     "output_type": "execute_result"
    },
    {
     "data": {
      "text/plain": [
       "Text(0, 10, '0.0%')"
      ]
     },
     "execution_count": 488,
     "metadata": {},
     "output_type": "execute_result"
    },
    {
     "data": {
      "text/plain": [
       "Text(0, 10, '0.0%')"
      ]
     },
     "execution_count": 488,
     "metadata": {},
     "output_type": "execute_result"
    },
    {
     "data": {
      "text/plain": [
       "Text(0, 10, '0.0%')"
      ]
     },
     "execution_count": 488,
     "metadata": {},
     "output_type": "execute_result"
    },
    {
     "data": {
      "text/plain": [
       "Text(0, 10, '0.0%')"
      ]
     },
     "execution_count": 488,
     "metadata": {},
     "output_type": "execute_result"
    },
    {
     "data": {
      "text/plain": [
       "Text(0, 10, '0.0%')"
      ]
     },
     "execution_count": 488,
     "metadata": {},
     "output_type": "execute_result"
    },
    {
     "data": {
      "text/plain": [
       "Text(0, 10, '0.0%')"
      ]
     },
     "execution_count": 488,
     "metadata": {},
     "output_type": "execute_result"
    },
    {
     "data": {
      "text/plain": [
       "Text(0, 10, '0.0%')"
      ]
     },
     "execution_count": 488,
     "metadata": {},
     "output_type": "execute_result"
    },
    {
     "data": {
      "text/plain": [
       "Text(0, 10, '0.0%')"
      ]
     },
     "execution_count": 488,
     "metadata": {},
     "output_type": "execute_result"
    },
    {
     "data": {
      "text/plain": [
       "Text(0, 10, '0.0%')"
      ]
     },
     "execution_count": 488,
     "metadata": {},
     "output_type": "execute_result"
    },
    {
     "data": {
      "text/plain": [
       "Text(0, 10, '0.0%')"
      ]
     },
     "execution_count": 488,
     "metadata": {},
     "output_type": "execute_result"
    },
    {
     "data": {
      "text/plain": [
       "Text(0, 10, '0.0%')"
      ]
     },
     "execution_count": 488,
     "metadata": {},
     "output_type": "execute_result"
    },
    {
     "data": {
      "text/plain": [
       "Text(0, 10, '0.0%')"
      ]
     },
     "execution_count": 488,
     "metadata": {},
     "output_type": "execute_result"
    },
    {
     "data": {
      "text/plain": [
       "Text(0, 10, '0.0%')"
      ]
     },
     "execution_count": 488,
     "metadata": {},
     "output_type": "execute_result"
    },
    {
     "data": {
      "text/plain": [
       "Text(0, 10, '0.0%')"
      ]
     },
     "execution_count": 488,
     "metadata": {},
     "output_type": "execute_result"
    },
    {
     "data": {
      "text/plain": [
       "Text(0, 10, '0.0%')"
      ]
     },
     "execution_count": 488,
     "metadata": {},
     "output_type": "execute_result"
    },
    {
     "data": {
      "text/plain": [
       "Text(0, 10, '0.0%')"
      ]
     },
     "execution_count": 488,
     "metadata": {},
     "output_type": "execute_result"
    },
    {
     "data": {
      "text/plain": [
       "Text(0, 10, '0.0%')"
      ]
     },
     "execution_count": 488,
     "metadata": {},
     "output_type": "execute_result"
    },
    {
     "data": {
      "text/plain": [
       "Text(0, 10, '0.0%')"
      ]
     },
     "execution_count": 488,
     "metadata": {},
     "output_type": "execute_result"
    },
    {
     "data": {
      "text/plain": [
       "Text(0, 10, '0.0%')"
      ]
     },
     "execution_count": 488,
     "metadata": {},
     "output_type": "execute_result"
    },
    {
     "data": {
      "text/plain": [
       "Text(0, 10, '0.0%')"
      ]
     },
     "execution_count": 488,
     "metadata": {},
     "output_type": "execute_result"
    },
    {
     "data": {
      "text/plain": [
       "Text(0, 10, '0.0%')"
      ]
     },
     "execution_count": 488,
     "metadata": {},
     "output_type": "execute_result"
    },
    {
     "data": {
      "text/plain": [
       "Text(0, 10, '0.0%')"
      ]
     },
     "execution_count": 488,
     "metadata": {},
     "output_type": "execute_result"
    },
    {
     "data": {
      "text/plain": [
       "Text(0, 10, '0.0%')"
      ]
     },
     "execution_count": 488,
     "metadata": {},
     "output_type": "execute_result"
    },
    {
     "data": {
      "text/plain": [
       "Text(0, 10, '0.0%')"
      ]
     },
     "execution_count": 488,
     "metadata": {},
     "output_type": "execute_result"
    },
    {
     "data": {
      "text/plain": [
       "Text(0.5, 1.0, 'Histogram of medical_specialty')"
      ]
     },
     "execution_count": 488,
     "metadata": {},
     "output_type": "execute_result"
    },
    {
     "data": {
      "text/plain": [
       "Text(0.5, 0, 'medical_specialty')"
      ]
     },
     "execution_count": 488,
     "metadata": {},
     "output_type": "execute_result"
    },
    {
     "data": {
      "text/plain": [
       "Text(0, 0.5, 'percent')"
      ]
     },
     "execution_count": 488,
     "metadata": {},
     "output_type": "execute_result"
    },
    {
     "data": {
      "image/png": "[encoded data removed]",
      "text/plain": [
       "<Figure size 3000x3000 with 3 Axes>"
      ]
     },
     "metadata": {},
     "output_type": "display_data"
    }
   ],
   "source": [
    "columns = ['weight', 'payer_code', 'medical_specialty']\n",
    "fig, axes = plt.subplots(nrows=len(columns), ncols=1, figsize=(30, 30))\n",
    "\n",
    "# Plot histograms for each column\n",
    "for i, column in enumerate(columns):\n",
    "\n",
    "    order = df[column].value_counts().index\n",
    "    sns.countplot(df, x=column, ax=axes[i], order=order)\n",
    "    \n",
    "    for p in axes[i].patches:\n",
    "        percentage = f\"{p.get_height() / len(df) * 100:.1f}%\"\n",
    "        axes[i].annotate(percentage, (p.get_x() + p.get_width() / 2., p.get_height()), ha='center', va='center', xytext=(0, 10), textcoords='offset points', fontsize=15)\n",
    "\n",
    "    axes[i].set_title(f'Histogram of {column}')\n",
    "    axes[i].set_xlabel(column)\n",
    "    axes[i].tick_params(axis='x', rotation=90)\n",
    "    axes[i].set_ylabel('percent')\n",
    "\n",
    "plt.tight_layout()\n",
    "plt.show()"
   ]
  },
  {
   "cell_type": "code",
   "execution_count": 489,
   "metadata": {},
   "outputs": [
    {
     "data": {
      "text/plain": [
       "<Axes: xlabel='medical_specialty', ylabel='count'>"
      ]
     },
     "execution_count": 489,
     "metadata": {},
     "output_type": "execute_result"
    },
    {
     "data": {
      "text/plain": [
       "Text(0, 10, '49.1%')"
      ]
     },
     "execution_count": 489,
     "metadata": {},
     "output_type": "execute_result"
    },
    {
     "data": {
      "text/plain": [
       "Text(0, 10, '14.4%')"
      ]
     },
     "execution_count": 489,
     "metadata": {},
     "output_type": "execute_result"
    },
    {
     "data": {
      "text/plain": [
       "Text(0, 10, '7.4%')"
      ]
     },
     "execution_count": 489,
     "metadata": {},
     "output_type": "execute_result"
    },
    {
     "data": {
      "text/plain": [
       "Text(0, 10, '7.3%')"
      ]
     },
     "execution_count": 489,
     "metadata": {},
     "output_type": "execute_result"
    },
    {
     "data": {
      "text/plain": [
       "Text(0, 10, '5.3%')"
      ]
     },
     "execution_count": 489,
     "metadata": {},
     "output_type": "execute_result"
    },
    {
     "data": {
      "text/plain": [
       "Text(0, 10, '3.0%')"
      ]
     },
     "execution_count": 489,
     "metadata": {},
     "output_type": "execute_result"
    },
    {
     "data": {
      "text/plain": [
       "Text(0, 10, '1.6%')"
      ]
     },
     "execution_count": 489,
     "metadata": {},
     "output_type": "execute_result"
    },
    {
     "data": {
      "text/plain": [
       "Text(0, 10, '1.4%')"
      ]
     },
     "execution_count": 489,
     "metadata": {},
     "output_type": "execute_result"
    },
    {
     "data": {
      "text/plain": [
       "Text(0, 10, '1.2%')"
      ]
     },
     "execution_count": 489,
     "metadata": {},
     "output_type": "execute_result"
    },
    {
     "data": {
      "text/plain": [
       "Text(0, 10, '1.1%')"
      ]
     },
     "execution_count": 489,
     "metadata": {},
     "output_type": "execute_result"
    },
    {
     "data": {
      "text/plain": [
       "Text(0, 10, '0.9%')"
      ]
     },
     "execution_count": 489,
     "metadata": {},
     "output_type": "execute_result"
    },
    {
     "data": {
      "text/plain": [
       "Text(0, 10, '0.8%')"
      ]
     },
     "execution_count": 489,
     "metadata": {},
     "output_type": "execute_result"
    },
    {
     "data": {
      "text/plain": [
       "Text(0, 10, '0.7%')"
      ]
     },
     "execution_count": 489,
     "metadata": {},
     "output_type": "execute_result"
    },
    {
     "data": {
      "text/plain": [
       "Text(0, 10, '0.7%')"
      ]
     },
     "execution_count": 489,
     "metadata": {},
     "output_type": "execute_result"
    },
    {
     "data": {
      "text/plain": [
       "Text(0, 10, '0.6%')"
      ]
     },
     "execution_count": 489,
     "metadata": {},
     "output_type": "execute_result"
    },
    {
     "data": {
      "text/plain": [
       "Text(0, 10, '0.6%')"
      ]
     },
     "execution_count": 489,
     "metadata": {},
     "output_type": "execute_result"
    },
    {
     "data": {
      "text/plain": [
       "Text(0, 10, '0.5%')"
      ]
     },
     "execution_count": 489,
     "metadata": {},
     "output_type": "execute_result"
    },
    {
     "data": {
      "text/plain": [
       "Text(0, 10, '0.5%')"
      ]
     },
     "execution_count": 489,
     "metadata": {},
     "output_type": "execute_result"
    },
    {
     "data": {
      "text/plain": [
       "Text(0, 10, '0.4%')"
      ]
     },
     "execution_count": 489,
     "metadata": {},
     "output_type": "execute_result"
    },
    {
     "data": {
      "text/plain": [
       "Text(0, 10, '0.3%')"
      ]
     },
     "execution_count": 489,
     "metadata": {},
     "output_type": "execute_result"
    },
    {
     "data": {
      "text/plain": [
       "Text(0, 10, '0.2%')"
      ]
     },
     "execution_count": 489,
     "metadata": {},
     "output_type": "execute_result"
    },
    {
     "data": {
      "text/plain": [
       "Text(0, 10, '0.2%')"
      ]
     },
     "execution_count": 489,
     "metadata": {},
     "output_type": "execute_result"
    },
    {
     "data": {
      "text/plain": [
       "Text(0, 10, '0.2%')"
      ]
     },
     "execution_count": 489,
     "metadata": {},
     "output_type": "execute_result"
    },
    {
     "data": {
      "text/plain": [
       "Text(0, 10, '0.2%')"
      ]
     },
     "execution_count": 489,
     "metadata": {},
     "output_type": "execute_result"
    },
    {
     "data": {
      "text/plain": [
       "Text(0, 10, '0.1%')"
      ]
     },
     "execution_count": 489,
     "metadata": {},
     "output_type": "execute_result"
    },
    {
     "data": {
      "text/plain": [
       "Text(0, 10, '0.1%')"
      ]
     },
     "execution_count": 489,
     "metadata": {},
     "output_type": "execute_result"
    },
    {
     "data": {
      "text/plain": [
       "Text(0, 10, '0.1%')"
      ]
     },
     "execution_count": 489,
     "metadata": {},
     "output_type": "execute_result"
    },
    {
     "data": {
      "text/plain": [
       "Text(0, 10, '0.1%')"
      ]
     },
     "execution_count": 489,
     "metadata": {},
     "output_type": "execute_result"
    },
    {
     "data": {
      "text/plain": [
       "Text(0, 10, '0.1%')"
      ]
     },
     "execution_count": 489,
     "metadata": {},
     "output_type": "execute_result"
    },
    {
     "data": {
      "text/plain": [
       "Text(0, 10, '0.1%')"
      ]
     },
     "execution_count": 489,
     "metadata": {},
     "output_type": "execute_result"
    },
    {
     "data": {
      "text/plain": [
       "Text(0, 10, '0.1%')"
      ]
     },
     "execution_count": 489,
     "metadata": {},
     "output_type": "execute_result"
    },
    {
     "data": {
      "text/plain": [
       "Text(0, 10, '0.1%')"
      ]
     },
     "execution_count": 489,
     "metadata": {},
     "output_type": "execute_result"
    },
    {
     "data": {
      "text/plain": [
       "Text(0, 10, '0.1%')"
      ]
     },
     "execution_count": 489,
     "metadata": {},
     "output_type": "execute_result"
    },
    {
     "data": {
      "text/plain": [
       "Text(0, 10, '0.1%')"
      ]
     },
     "execution_count": 489,
     "metadata": {},
     "output_type": "execute_result"
    },
    {
     "data": {
      "text/plain": [
       "Text(0, 10, '0.1%')"
      ]
     },
     "execution_count": 489,
     "metadata": {},
     "output_type": "execute_result"
    },
    {
     "data": {
      "text/plain": [
       "Text(0, 10, '0.0%')"
      ]
     },
     "execution_count": 489,
     "metadata": {},
     "output_type": "execute_result"
    },
    {
     "data": {
      "text/plain": [
       "Text(0, 10, '0.0%')"
      ]
     },
     "execution_count": 489,
     "metadata": {},
     "output_type": "execute_result"
    },
    {
     "data": {
      "text/plain": [
       "Text(0, 10, '0.0%')"
      ]
     },
     "execution_count": 489,
     "metadata": {},
     "output_type": "execute_result"
    },
    {
     "data": {
      "text/plain": [
       "Text(0, 10, '0.0%')"
      ]
     },
     "execution_count": 489,
     "metadata": {},
     "output_type": "execute_result"
    },
    {
     "data": {
      "text/plain": [
       "Text(0, 10, '0.0%')"
      ]
     },
     "execution_count": 489,
     "metadata": {},
     "output_type": "execute_result"
    },
    {
     "data": {
      "text/plain": [
       "Text(0, 10, '0.0%')"
      ]
     },
     "execution_count": 489,
     "metadata": {},
     "output_type": "execute_result"
    },
    {
     "data": {
      "text/plain": [
       "Text(0, 10, '0.0%')"
      ]
     },
     "execution_count": 489,
     "metadata": {},
     "output_type": "execute_result"
    },
    {
     "data": {
      "text/plain": [
       "Text(0, 10, '0.0%')"
      ]
     },
     "execution_count": 489,
     "metadata": {},
     "output_type": "execute_result"
    },
    {
     "data": {
      "text/plain": [
       "Text(0, 10, '0.0%')"
      ]
     },
     "execution_count": 489,
     "metadata": {},
     "output_type": "execute_result"
    },
    {
     "data": {
      "text/plain": [
       "Text(0, 10, '0.0%')"
      ]
     },
     "execution_count": 489,
     "metadata": {},
     "output_type": "execute_result"
    },
    {
     "data": {
      "text/plain": [
       "Text(0, 10, '0.0%')"
      ]
     },
     "execution_count": 489,
     "metadata": {},
     "output_type": "execute_result"
    },
    {
     "data": {
      "text/plain": [
       "Text(0, 10, '0.0%')"
      ]
     },
     "execution_count": 489,
     "metadata": {},
     "output_type": "execute_result"
    },
    {
     "data": {
      "text/plain": [
       "Text(0, 10, '0.0%')"
      ]
     },
     "execution_count": 489,
     "metadata": {},
     "output_type": "execute_result"
    },
    {
     "data": {
      "text/plain": [
       "Text(0, 10, '0.0%')"
      ]
     },
     "execution_count": 489,
     "metadata": {},
     "output_type": "execute_result"
    },
    {
     "data": {
      "text/plain": [
       "Text(0, 10, '0.0%')"
      ]
     },
     "execution_count": 489,
     "metadata": {},
     "output_type": "execute_result"
    },
    {
     "data": {
      "text/plain": [
       "Text(0, 10, '0.0%')"
      ]
     },
     "execution_count": 489,
     "metadata": {},
     "output_type": "execute_result"
    },
    {
     "data": {
      "text/plain": [
       "Text(0, 10, '0.0%')"
      ]
     },
     "execution_count": 489,
     "metadata": {},
     "output_type": "execute_result"
    },
    {
     "data": {
      "text/plain": [
       "Text(0, 10, '0.0%')"
      ]
     },
     "execution_count": 489,
     "metadata": {},
     "output_type": "execute_result"
    },
    {
     "data": {
      "text/plain": [
       "Text(0, 10, '0.0%')"
      ]
     },
     "execution_count": 489,
     "metadata": {},
     "output_type": "execute_result"
    },
    {
     "data": {
      "text/plain": [
       "Text(0, 10, '0.0%')"
      ]
     },
     "execution_count": 489,
     "metadata": {},
     "output_type": "execute_result"
    },
    {
     "data": {
      "text/plain": [
       "Text(0, 10, '0.0%')"
      ]
     },
     "execution_count": 489,
     "metadata": {},
     "output_type": "execute_result"
    },
    {
     "data": {
      "text/plain": [
       "Text(0, 10, '0.0%')"
      ]
     },
     "execution_count": 489,
     "metadata": {},
     "output_type": "execute_result"
    },
    {
     "data": {
      "text/plain": [
       "Text(0, 10, '0.0%')"
      ]
     },
     "execution_count": 489,
     "metadata": {},
     "output_type": "execute_result"
    },
    {
     "data": {
      "text/plain": [
       "Text(0, 10, '0.0%')"
      ]
     },
     "execution_count": 489,
     "metadata": {},
     "output_type": "execute_result"
    },
    {
     "data": {
      "text/plain": [
       "Text(0, 10, '0.0%')"
      ]
     },
     "execution_count": 489,
     "metadata": {},
     "output_type": "execute_result"
    },
    {
     "data": {
      "text/plain": [
       "Text(0, 10, '0.0%')"
      ]
     },
     "execution_count": 489,
     "metadata": {},
     "output_type": "execute_result"
    },
    {
     "data": {
      "text/plain": [
       "Text(0, 10, '0.0%')"
      ]
     },
     "execution_count": 489,
     "metadata": {},
     "output_type": "execute_result"
    },
    {
     "data": {
      "text/plain": [
       "Text(0, 10, '0.0%')"
      ]
     },
     "execution_count": 489,
     "metadata": {},
     "output_type": "execute_result"
    },
    {
     "data": {
      "text/plain": [
       "Text(0, 10, '0.0%')"
      ]
     },
     "execution_count": 489,
     "metadata": {},
     "output_type": "execute_result"
    },
    {
     "data": {
      "text/plain": [
       "Text(0, 10, '0.0%')"
      ]
     },
     "execution_count": 489,
     "metadata": {},
     "output_type": "execute_result"
    },
    {
     "data": {
      "text/plain": [
       "Text(0, 10, '0.0%')"
      ]
     },
     "execution_count": 489,
     "metadata": {},
     "output_type": "execute_result"
    },
    {
     "data": {
      "text/plain": [
       "Text(0, 10, '0.0%')"
      ]
     },
     "execution_count": 489,
     "metadata": {},
     "output_type": "execute_result"
    },
    {
     "data": {
      "text/plain": [
       "Text(0, 10, '0.0%')"
      ]
     },
     "execution_count": 489,
     "metadata": {},
     "output_type": "execute_result"
    },
    {
     "data": {
      "text/plain": [
       "Text(0, 10, '0.0%')"
      ]
     },
     "execution_count": 489,
     "metadata": {},
     "output_type": "execute_result"
    },
    {
     "data": {
      "text/plain": [
       "Text(0, 10, '0.0%')"
      ]
     },
     "execution_count": 489,
     "metadata": {},
     "output_type": "execute_result"
    },
    {
     "data": {
      "text/plain": [
       "Text(0, 10, '0.0%')"
      ]
     },
     "execution_count": 489,
     "metadata": {},
     "output_type": "execute_result"
    },
    {
     "data": {
      "text/plain": [
       "Text(0, 10, '0.0%')"
      ]
     },
     "execution_count": 489,
     "metadata": {},
     "output_type": "execute_result"
    },
    {
     "data": {
      "text/plain": [
       "Text(0, 10, '0.0%')"
      ]
     },
     "execution_count": 489,
     "metadata": {},
     "output_type": "execute_result"
    },
    {
     "data": {
      "text/plain": [
       "Text(0.5, 1.0, 'Countplot of medical_specialty')"
      ]
     },
     "execution_count": 489,
     "metadata": {},
     "output_type": "execute_result"
    },
    {
     "data": {
      "text/plain": [
       "Text(0.5, 0, 'medical_specialty')"
      ]
     },
     "execution_count": 489,
     "metadata": {},
     "output_type": "execute_result"
    },
    {
     "data": {
      "text/plain": [
       "Text(0, 0.5, 'Count')"
      ]
     },
     "execution_count": 489,
     "metadata": {},
     "output_type": "execute_result"
    },
    {
     "data": {
      "image/png": "[encoded data removed]",
      "text/plain": [
       "<Figure size 1500x500 with 1 Axes>"
      ]
     },
     "metadata": {},
     "output_type": "display_data"
    }
   ],
   "source": [
    "def drop_missing_features(df):\n",
    "    try:\n",
    "        df.drop(columns=['weight', 'payer_code'], inplace=True)\n",
    "    except KeyError:\n",
    "        ''\n",
    "    df.loc[~df.medical_specialty.notna(), 'medical_specialty'] = 'missing'\n",
    "    return df\n",
    "    \n",
    "df = drop_missing_features(df)\n",
    "# print(np.unique(df.medical_specialty, return_counts=True))\n",
    "\n",
    "column = 'medical_specialty'\n",
    "\n",
    "order = df[column].value_counts().index\n",
    "\n",
    "# Create a single subplot\n",
    "fig, axes = plt.subplots(nrows=1, ncols=1, figsize=(15, 5))\n",
    "\n",
    "# Plot countplot\n",
    "sns.countplot(data=df, x=column, order=order, ax=axes)\n",
    "\n",
    "# Annotate bars with percentages\n",
    "for p in axes.patches:\n",
    "    percentage = f\"{p.get_height() / len(df) * 100:.1f}%\"\n",
    "    axes.annotate(percentage, (p.get_x() + p.get_width() / 2., p.get_height()), ha='center', va='center', xytext=(0, 10), textcoords='offset points', fontsize=10)\n",
    "\n",
    "# Set title and labels\n",
    "axes.set_title(f'Countplot of {column}')\n",
    "axes.set_xlabel(column)\n",
    "axes.set_ylabel('Count')\n",
    "axes.tick_params(axis='x', rotation=90)\n",
    "\n",
    "plt.show()"
   ]
  },
  {
   "cell_type": "code",
   "execution_count": 490,
   "metadata": {},
   "outputs": [
    {
     "name": "stdout",
     "output_type": "stream",
     "text": [
      "Number of samples: 101766, number of features: 47\n"
     ]
    },
    {
     "data": {
      "text/html": [
       "<div>\n",
       "<style scoped>\n",
       "    .dataframe tbody tr th:only-of-type {\n",
       "        vertical-align: middle;\n",
       "    }\n",
       "\n",
       "    .dataframe tbody tr th {\n",
       "        vertical-align: top;\n",
       "    }\n",
       "\n",
       "    .dataframe thead th {\n",
       "        text-align: right;\n",
       "    }\n",
       "</style>\n",
       "<table border=\"1\" class=\"dataframe\">\n",
       "  <thead>\n",
       "    <tr style=\"text-align: right;\">\n",
       "      <th></th>\n",
       "      <th>patient_nbr</th>\n",
       "      <th>race</th>\n",
       "      <th>gender</th>\n",
       "      <th>age</th>\n",
       "      <th>admission_type_id</th>\n",
       "      <th>discharge_disposition_id</th>\n",
       "      <th>admission_source_id</th>\n",
       "      <th>time_in_hospital</th>\n",
       "      <th>medical_specialty</th>\n",
       "      <th>num_lab_procedures</th>\n",
       "      <th>...</th>\n",
       "      <th>citoglipton</th>\n",
       "      <th>insulin</th>\n",
       "      <th>glyburide-metformin</th>\n",
       "      <th>glipizide-metformin</th>\n",
       "      <th>glimepiride-pioglitazone</th>\n",
       "      <th>metformin-rosiglitazone</th>\n",
       "      <th>metformin-pioglitazone</th>\n",
       "      <th>change</th>\n",
       "      <th>diabetesMed</th>\n",
       "      <th>readmitted</th>\n",
       "    </tr>\n",
       "    <tr>\n",
       "      <th>encounter_id</th>\n",
       "      <th></th>\n",
       "      <th></th>\n",
       "      <th></th>\n",
       "      <th></th>\n",
       "      <th></th>\n",
       "      <th></th>\n",
       "      <th></th>\n",
       "      <th></th>\n",
       "      <th></th>\n",
       "      <th></th>\n",
       "      <th></th>\n",
       "      <th></th>\n",
       "      <th></th>\n",
       "      <th></th>\n",
       "      <th></th>\n",
       "      <th></th>\n",
       "      <th></th>\n",
       "      <th></th>\n",
       "      <th></th>\n",
       "      <th></th>\n",
       "      <th></th>\n",
       "    </tr>\n",
       "  </thead>\n",
       "  <tbody>\n",
       "    <tr>\n",
       "      <th>2278392</th>\n",
       "      <td>8222157</td>\n",
       "      <td>Caucasian</td>\n",
       "      <td>Female</td>\n",
       "      <td>[0-10)</td>\n",
       "      <td>6</td>\n",
       "      <td>25</td>\n",
       "      <td>1</td>\n",
       "      <td>1</td>\n",
       "      <td>Pediatrics-Endocrinology</td>\n",
       "      <td>41</td>\n",
       "      <td>...</td>\n",
       "      <td>No</td>\n",
       "      <td>No</td>\n",
       "      <td>No</td>\n",
       "      <td>No</td>\n",
       "      <td>No</td>\n",
       "      <td>No</td>\n",
       "      <td>No</td>\n",
       "      <td>No</td>\n",
       "      <td>No</td>\n",
       "      <td>NO</td>\n",
       "    </tr>\n",
       "    <tr>\n",
       "      <th>149190</th>\n",
       "      <td>55629189</td>\n",
       "      <td>Caucasian</td>\n",
       "      <td>Female</td>\n",
       "      <td>[10-20)</td>\n",
       "      <td>1</td>\n",
       "      <td>1</td>\n",
       "      <td>7</td>\n",
       "      <td>3</td>\n",
       "      <td>missing</td>\n",
       "      <td>59</td>\n",
       "      <td>...</td>\n",
       "      <td>No</td>\n",
       "      <td>Up</td>\n",
       "      <td>No</td>\n",
       "      <td>No</td>\n",
       "      <td>No</td>\n",
       "      <td>No</td>\n",
       "      <td>No</td>\n",
       "      <td>Ch</td>\n",
       "      <td>Yes</td>\n",
       "      <td>&gt;30</td>\n",
       "    </tr>\n",
       "    <tr>\n",
       "      <th>64410</th>\n",
       "      <td>86047875</td>\n",
       "      <td>AfricanAmerican</td>\n",
       "      <td>Female</td>\n",
       "      <td>[20-30)</td>\n",
       "      <td>1</td>\n",
       "      <td>1</td>\n",
       "      <td>7</td>\n",
       "      <td>2</td>\n",
       "      <td>missing</td>\n",
       "      <td>11</td>\n",
       "      <td>...</td>\n",
       "      <td>No</td>\n",
       "      <td>No</td>\n",
       "      <td>No</td>\n",
       "      <td>No</td>\n",
       "      <td>No</td>\n",
       "      <td>No</td>\n",
       "      <td>No</td>\n",
       "      <td>No</td>\n",
       "      <td>Yes</td>\n",
       "      <td>NO</td>\n",
       "    </tr>\n",
       "    <tr>\n",
       "      <th>500364</th>\n",
       "      <td>82442376</td>\n",
       "      <td>Caucasian</td>\n",
       "      <td>Male</td>\n",
       "      <td>[30-40)</td>\n",
       "      <td>1</td>\n",
       "      <td>1</td>\n",
       "      <td>7</td>\n",
       "      <td>2</td>\n",
       "      <td>missing</td>\n",
       "      <td>44</td>\n",
       "      <td>...</td>\n",
       "      <td>No</td>\n",
       "      <td>Up</td>\n",
       "      <td>No</td>\n",
       "      <td>No</td>\n",
       "      <td>No</td>\n",
       "      <td>No</td>\n",
       "      <td>No</td>\n",
       "      <td>Ch</td>\n",
       "      <td>Yes</td>\n",
       "      <td>NO</td>\n",
       "    </tr>\n",
       "    <tr>\n",
       "      <th>16680</th>\n",
       "      <td>42519267</td>\n",
       "      <td>Caucasian</td>\n",
       "      <td>Male</td>\n",
       "      <td>[40-50)</td>\n",
       "      <td>1</td>\n",
       "      <td>1</td>\n",
       "      <td>7</td>\n",
       "      <td>1</td>\n",
       "      <td>missing</td>\n",
       "      <td>51</td>\n",
       "      <td>...</td>\n",
       "      <td>No</td>\n",
       "      <td>Steady</td>\n",
       "      <td>No</td>\n",
       "      <td>No</td>\n",
       "      <td>No</td>\n",
       "      <td>No</td>\n",
       "      <td>No</td>\n",
       "      <td>Ch</td>\n",
       "      <td>Yes</td>\n",
       "      <td>NO</td>\n",
       "    </tr>\n",
       "  </tbody>\n",
       "</table>\n",
       "<p>5 rows × 47 columns</p>\n",
       "</div>"
      ],
      "text/plain": [
       "              patient_nbr             race  gender      age  \\\n",
       "encounter_id                                                  \n",
       "2278392           8222157        Caucasian  Female   [0-10)   \n",
       "149190           55629189        Caucasian  Female  [10-20)   \n",
       "64410            86047875  AfricanAmerican  Female  [20-30)   \n",
       "500364           82442376        Caucasian    Male  [30-40)   \n",
       "16680            42519267        Caucasian    Male  [40-50)   \n",
       "\n",
       "              admission_type_id  discharge_disposition_id  \\\n",
       "encounter_id                                                \n",
       "2278392                       6                        25   \n",
       "149190                        1                         1   \n",
       "64410                         1                         1   \n",
       "500364                        1                         1   \n",
       "16680                         1                         1   \n",
       "\n",
       "              admission_source_id  time_in_hospital         medical_specialty  \\\n",
       "encounter_id                                                                    \n",
       "2278392                         1                 1  Pediatrics-Endocrinology   \n",
       "149190                          7                 3                   missing   \n",
       "64410                           7                 2                   missing   \n",
       "500364                          7                 2                   missing   \n",
       "16680                           7                 1                   missing   \n",
       "\n",
       "              num_lab_procedures  ...  citoglipton  insulin  \\\n",
       "encounter_id                      ...                         \n",
       "2278392                       41  ...           No       No   \n",
       "149190                        59  ...           No       Up   \n",
       "64410                         11  ...           No       No   \n",
       "500364                        44  ...           No       Up   \n",
       "16680                         51  ...           No   Steady   \n",
       "\n",
       "              glyburide-metformin  glipizide-metformin  \\\n",
       "encounter_id                                             \n",
       "2278392                        No                   No   \n",
       "149190                         No                   No   \n",
       "64410                          No                   No   \n",
       "500364                         No                   No   \n",
       "16680                          No                   No   \n",
       "\n",
       "              glimepiride-pioglitazone metformin-rosiglitazone  \\\n",
       "encounter_id                                                     \n",
       "2278392                             No                      No   \n",
       "149190                              No                      No   \n",
       "64410                               No                      No   \n",
       "500364                              No                      No   \n",
       "16680                               No                      No   \n",
       "\n",
       "             metformin-pioglitazone change  diabetesMed readmitted  \n",
       "encounter_id                                                        \n",
       "2278392                          No     No           No         NO  \n",
       "149190                           No     Ch          Yes        >30  \n",
       "64410                            No     No          Yes         NO  \n",
       "500364                           No     Ch          Yes         NO  \n",
       "16680                            No     Ch          Yes         NO  \n",
       "\n",
       "[5 rows x 47 columns]"
      ]
     },
     "execution_count": 490,
     "metadata": {},
     "output_type": "execute_result"
    }
   ],
   "source": [
    "num_of_sample, num_of_featuers = df.shape\n",
    "print(f'Number of samples: {num_of_sample}, number of features: {num_of_featuers}')\n",
    "\n",
    "df.head()"
   ]
  },
  {
   "cell_type": "markdown",
   "metadata": {},
   "source": [
    "We are going to use 'readmission' as our label in a binary classification problem.\n",
    "First, we need to understand how the 'readmitted' variable is distributed.\n",
    "\n",
    "1. Since we are primarily interested in factors that lead to early readmission, we defined the readmission attribute (outcome) as having two values: “readmitted,” if the patient was readmitted within 30 days of discharge or “otherwise,” which covers both readmission after 30 days and no readmission at all.\n",
    "2. Upon examining the 'IDs_mapping.csv' file provided by UCI, it is evident that IDs 11, 13, 14, 19, 20, and 21 are associated with death or hospice situations. Consequently, it is advisable to exclude these samples from the predictive model, as they do not apply to readmission scenarios."
   ]
  },
  {
   "cell_type": "code",
   "execution_count": 425,
   "metadata": {},
   "outputs": [
    {
     "data": {
      "text/plain": [
       "<Axes: >"
      ]
     },
     "execution_count": 425,
     "metadata": {},
     "output_type": "execute_result"
    },
    {
     "data": {
      "image/png": "[encoded data removed]",
      "text/plain": [
       "<Figure size 640x480 with 1 Axes>"
      ]
     },
     "metadata": {},
     "output_type": "display_data"
    }
   ],
   "source": [
    "df.readmitted.hist()"
   ]
  },
  {
   "cell_type": "code",
   "execution_count": 491,
   "metadata": {},
   "outputs": [
    {
     "name": "stdout",
     "output_type": "stream",
     "text": [
      "Number of samples: 99343, number of features: 47\n"
     ]
    }
   ],
   "source": [
    "# First we will start by removing the cases associated with death or hospice\n",
    "df = df.loc[~df.discharge_disposition_id.isin([11,13,14,19,20,21])]\n",
    "num_of_sample, num_of_featuers = df.shape\n",
    "print(f'Number of samples: {num_of_sample}, number of features: {num_of_featuers}')"
   ]
  },
  {
   "cell_type": "code",
   "execution_count": 492,
   "metadata": {},
   "outputs": [
    {
     "data": {
      "text/plain": [
       "readmitted\n",
       "otherwise     88029\n",
       "readmitted    11314\n",
       "dtype: int64"
      ]
     },
     "execution_count": 492,
     "metadata": {},
     "output_type": "execute_result"
    }
   ],
   "source": [
    "# Then we are fixing the readmittion to readmitted if <30 or otherwise\n",
    "def fix_readmitted_values(df):\n",
    "    ''' we defined the readmission attribute (outcome) as having two values: “readmitted,” if the patient was readmitted within 30 days of discharge or “otherwise”'''\n",
    "    df.loc[df.readmitted == '<30', 'readmitted'] = 'readmitted'\n",
    "    df.loc[df.readmitted != 'readmitted', 'readmitted'] = 'otherwise'\n",
    "    return df\n",
    "\n",
    "df = fix_readmitted_values(df)\n",
    "\n",
    "readmitted_size = df.groupby('readmitted').size()\n",
    "readmitted_size"
   ]
  },
  {
   "cell_type": "code",
   "execution_count": 493,
   "metadata": {
    "scrolled": true
   },
   "outputs": [
    {
     "data": {
      "text/plain": [
       "<Axes: >"
      ]
     },
     "execution_count": 493,
     "metadata": {},
     "output_type": "execute_result"
    },
    {
     "data": {
      "text/plain": [
       "Text(0.5, 1.0, 'Readmitted: 11% of the total data')"
      ]
     },
     "execution_count": 493,
     "metadata": {},
     "output_type": "execute_result"
    },
    {
     "data": {
      "text/plain": [
       "Text(0.5, 0, 'Readmitted')"
      ]
     },
     "execution_count": 493,
     "metadata": {},
     "output_type": "execute_result"
    },
    {
     "data": {
      "text/plain": [
       "Text(0, 0.5, 'Count')"
      ]
     },
     "execution_count": 493,
     "metadata": {},
     "output_type": "execute_result"
    },
    {
     "data": {
      "image/png": "[encoded data removed]",
      "text/plain": [
       "<Figure size 640x480 with 1 Axes>"
      ]
     },
     "metadata": {},
     "output_type": "display_data"
    }
   ],
   "source": [
    "percent_of_readmitted = (readmitted_size.loc['readmitted'] / np.sum(readmitted_size.values)) * 100\n",
    "df.readmitted.hist()\n",
    "\n",
    "plt.title(f'Readmitted: {round(percent_of_readmitted)}% of the total data')\n",
    "plt.xlabel('Readmitted')\n",
    "plt.ylabel('Count')\n",
    "plt.show()\n"
   ]
  },
  {
   "cell_type": "markdown",
   "metadata": {},
   "source": [
    "## Approximately 11% of the population experiences rehospitalization, indicating an imbalanced classification scenario."
   ]
  },
  {
   "cell_type": "code",
   "execution_count": null,
   "metadata": {},
   "outputs": [],
   "source": []
  },
  {
   "cell_type": "markdown",
   "metadata": {},
   "source": [
    "The preliminary dataset contained multiple inpatient visits for some patients and the observations could not be considered statistically independent, an assumption of the logistic regression model. We thus used only one encounter per patient; in particular, we considered only the first encounter for each patient as the primary admission and determined whether or not they were readmitted within 30 days. Additionally, we removed all encounters that resulted in either discharge to a hospice or patient death"
   ]
  },
  {
   "cell_type": "code",
   "execution_count": 430,
   "metadata": {},
   "outputs": [
    {
     "name": "stdout",
     "output_type": "stream",
     "text": [
      "<class 'pandas.core.frame.DataFrame'>\n",
      "Int64Index: 99343 entries, 2278392 to 443867222\n",
      "Data columns (total 47 columns):\n",
      " #   Column                    Non-Null Count  Dtype \n",
      "---  ------                    --------------  ----- \n",
      " 0   patient_nbr               99343 non-null  int64 \n",
      " 1   race                      97109 non-null  object\n",
      " 2   gender                    99343 non-null  object\n",
      " 3   age                       99343 non-null  object\n",
      " 4   admission_type_id         99343 non-null  int64 \n",
      " 5   discharge_disposition_id  99343 non-null  int64 \n",
      " 6   admission_source_id       99343 non-null  int64 \n",
      " 7   time_in_hospital          99343 non-null  int64 \n",
      " 8   medical_specialty         99343 non-null  object\n",
      " 9   num_lab_procedures        99343 non-null  int64 \n",
      " 10  num_procedures            99343 non-null  int64 \n",
      " 11  num_medications           99343 non-null  int64 \n",
      " 12  number_outpatient         99343 non-null  int64 \n",
      " 13  number_emergency          99343 non-null  int64 \n",
      " 14  number_inpatient          99343 non-null  int64 \n",
      " 15  diag_1                    99323 non-null  object\n",
      " 16  diag_2                    98987 non-null  object\n",
      " 17  diag_3                    97924 non-null  object\n",
      " 18  number_diagnoses          99343 non-null  int64 \n",
      " 19  max_glu_serum             99343 non-null  object\n",
      " 20  A1Cresult                 99343 non-null  object\n",
      " 21  metformin                 99343 non-null  object\n",
      " 22  repaglinide               99343 non-null  object\n",
      " 23  nateglinide               99343 non-null  object\n",
      " 24  chlorpropamide            99343 non-null  object\n",
      " 25  glimepiride               99343 non-null  object\n",
      " 26  acetohexamide             99343 non-null  object\n",
      " 27  glipizide                 99343 non-null  object\n",
      " 28  glyburide                 99343 non-null  object\n",
      " 29  tolbutamide               99343 non-null  object\n",
      " 30  pioglitazone              99343 non-null  object\n",
      " 31  rosiglitazone             99343 non-null  object\n",
      " 32  acarbose                  99343 non-null  object\n",
      " 33  miglitol                  99343 non-null  object\n",
      " 34  troglitazone              99343 non-null  object\n",
      " 35  tolazamide                99343 non-null  object\n",
      " 36  examide                   99343 non-null  object\n",
      " 37  citoglipton               99343 non-null  object\n",
      " 38  insulin                   99343 non-null  object\n",
      " 39  glyburide-metformin       99343 non-null  object\n",
      " 40  glipizide-metformin       99343 non-null  object\n",
      " 41  glimepiride-pioglitazone  99343 non-null  object\n",
      " 42  metformin-rosiglitazone   99343 non-null  object\n",
      " 43  metformin-pioglitazone    99343 non-null  object\n",
      " 44  change                    99343 non-null  object\n",
      " 45  diabetesMed               99343 non-null  object\n",
      " 46  readmitted                99343 non-null  object\n",
      "dtypes: int64(12), object(35)\n",
      "memory usage: 36.4+ MB\n"
     ]
    }
   ],
   "source": [
    "# lets look at the couloums valuse and types\n",
    "df.info()"
   ]
  },
  {
   "cell_type": "code",
   "execution_count": 431,
   "metadata": {},
   "outputs": [
    {
     "data": {
      "text/plain": [
       "73"
      ]
     },
     "execution_count": 431,
     "metadata": {},
     "output_type": "execute_result"
    }
   ],
   "source": [
    "df[column].nunique()"
   ]
  },
  {
   "cell_type": "code",
   "execution_count": 494,
   "metadata": {},
   "outputs": [
    {
     "name": "stdout",
     "output_type": "stream",
     "text": [
      "                      column  unique  \\\n",
      "0                    examide       1   \n",
      "1                citoglipton       1   \n",
      "2                 readmitted       2   \n",
      "3              acetohexamide       2   \n",
      "4                tolbutamide       2   \n",
      "5               troglitazone       2   \n",
      "6                diabetesMed       2   \n",
      "7   glimepiride-pioglitazone       2   \n",
      "8    metformin-rosiglitazone       2   \n",
      "9                     change       2   \n",
      "10    metformin-pioglitazone       2   \n",
      "11       glipizide-metformin       2   \n",
      "12                tolazamide       3   \n",
      "13                    gender       3   \n",
      "14               glimepiride       4   \n",
      "15                 glipizide       4   \n",
      "16                 glyburide       4   \n",
      "17       glyburide-metformin       4   \n",
      "18                  acarbose       4   \n",
      "19                  miglitol       4   \n",
      "20            chlorpropamide       4   \n",
      "21                   insulin       4   \n",
      "22              pioglitazone       4   \n",
      "23             rosiglitazone       4   \n",
      "24               nateglinide       4   \n",
      "25                 metformin       4   \n",
      "26                 A1Cresult       4   \n",
      "27             max_glu_serum       4   \n",
      "28               repaglinide       4   \n",
      "29                      race       5   \n",
      "30            num_procedures       7   \n",
      "31         admission_type_id       8   \n",
      "32                       age      10   \n",
      "33          time_in_hospital      14   \n",
      "34          number_diagnoses      16   \n",
      "35       admission_source_id      17   \n",
      "36          number_inpatient      21   \n",
      "37  discharge_disposition_id      21   \n",
      "38          number_emergency      33   \n",
      "39         number_outpatient      39   \n",
      "40         medical_specialty      73   \n",
      "41           num_medications      75   \n",
      "42        num_lab_procedures     118   \n",
      "43                    diag_1     715   \n",
      "44                    diag_2     747   \n",
      "45                    diag_3     786   \n",
      "46               patient_nbr   69990   \n",
      "\n",
      "                            fraction_of_unique_values  \\\n",
      "0                                             [100.0]   \n",
      "1                                             [100.0]   \n",
      "2               [88.611175422526, 11.388824577474004]   \n",
      "3          [99.99899338654963, 0.0010066134503689237]   \n",
      "4             [99.97886111754225, 0.0211388824577474]   \n",
      "5           [99.9969801596489, 0.0030198403511067715]   \n",
      "6             [77.22637729885346, 22.773622701146532]   \n",
      "7          [99.99899338654963, 0.0010066134503689237]   \n",
      "8          [99.99798677309926, 0.0020132269007378475]   \n",
      "9                [53.5729744420845, 46.4270255579155]   \n",
      "10         [99.99899338654963, 0.0010066134503689237]   \n",
      "11            [99.9869140251452, 0.01308597485479601]   \n",
      "12  [99.96074207543562, 0.0382513111140191, 0.0010...   \n",
      "13  [53.807515376020454, 46.18946478362844, 0.0030...   \n",
      "14  [94.84412590721037, 4.63948139275037, 0.324129...   \n",
      "15  [87.38612685342702, 11.293196299688956, 0.7690...   \n",
      "16  [89.40740666176782, 9.22259243228008, 0.806297...   \n",
      "17  [99.29738381164249, 0.6885236000523439, 0.0080...   \n",
      "18  [99.69298289763748, 0.29393112750772576, 0.010...   \n",
      "19  [99.96174868888598, 0.03120501696143664, 0.005...   \n",
      "20  [99.91443785671864, 0.07851584912877606, 0.006...   \n",
      "21  [46.685725214660316, 30.267859839143167, 11.98...   \n",
      "22  [92.69701941757346, 6.953685715148526, 0.23152...   \n",
      "23  [93.6543088088743, 6.087998147831251, 0.172130...   \n",
      "24  [99.30644333269582, 0.6583251965412762, 0.0241...   \n",
      "25  [80.02476269087909, 18.327411090866995, 1.0700...   \n",
      "26  [83.05466917648954, 8.190813645651932, 4.95455...   \n",
      "27  [94.8139275036993, 2.5618312311889113, 1.42838...   \n",
      "28  [98.47196078233998, 1.3770472001046878, 0.1077...   \n",
      "29  [74.71085028638153, 18.89614769032544, 2.24877...   \n",
      "30  [45.98109579940207, 20.38392236997071, 12.4548...   \n",
      "31  [52.71735300927091, 18.79145989148707, 18.2519...   \n",
      "32  [25.49852531129521, 22.20488610168809, 17.1728...   \n",
      "33  [17.54728566683108, 17.002707790181493, 13.915...   \n",
      "34  [48.126189062138245, 11.375738602619208, 10.42...   \n",
      "35  [56.2193612031044, 29.360901120360772, 6.61345...   \n",
      "36  [66.68310801968936, 19.10954974180365, 7.34827...   \n",
      "37  [60.632354569521766, 14.046284086447963, 12.98...   \n",
      "38  [88.83263038160716, 7.523428928057337, 1.99712...   \n",
      "39  [83.54287669991847, 8.404215697130144, 3.53220...   \n",
      "40  [48.937519503135604, 14.33115569290237, 7.4680...   \n",
      "41  [6.015521979404689, 5.926939995772224, 5.73367...   \n",
      "42  [3.173852209013217, 2.7702002154152785, 2.4631...   \n",
      "43  [6.707065419808139, 6.593318099916451, 4.04155...   \n",
      "44  [6.632576024480839, 6.501716275932878, 6.09101...   \n",
      "45  [11.54182982193008, 8.2955014444903, 4.9857564...   \n",
      "46  [0.040264538014756955, 0.028185176610329866, 0...   \n",
      "\n",
      "                                               counts  \n",
      "0                                             [99343]  \n",
      "1                                             [99343]  \n",
      "2                                      [88029, 11314]  \n",
      "3                                          [99342, 1]  \n",
      "4                                         [99322, 21]  \n",
      "5                                          [99340, 3]  \n",
      "6                                      [76719, 22624]  \n",
      "7                                          [99342, 1]  \n",
      "8                                          [99341, 2]  \n",
      "9                                      [53221, 46122]  \n",
      "10                                         [99342, 1]  \n",
      "11                                        [99330, 13]  \n",
      "12                                     [99304, 38, 1]  \n",
      "13                                  [53454, 45886, 3]  \n",
      "14                            [94221, 4609, 322, 191]  \n",
      "15                           [86812, 11219, 764, 548]  \n",
      "16                            [88820, 9162, 801, 560]  \n",
      "17                                 [98645, 684, 8, 6]  \n",
      "18                                [99038, 292, 10, 3]  \n",
      "19                                  [99305, 31, 5, 2]  \n",
      "20                                  [99258, 78, 6, 1]  \n",
      "21                       [46379, 30069, 11908, 10987]  \n",
      "22                            [92088, 6908, 230, 117]  \n",
      "23                             [93039, 6048, 171, 85]  \n",
      "24                               [98654, 654, 24, 11]  \n",
      "25                          [79499, 18207, 1063, 574]  \n",
      "26                          [82509, 8137, 4922, 3775]  \n",
      "27                          [94191, 2545, 1419, 1188]  \n",
      "28                             [97825, 1368, 107, 43]  \n",
      "29              [74220, 18772, 2234, 2017, 1472, 628]  \n",
      "30      [45679, 20250, 12373, 9203, 4801, 4049, 2988]  \n",
      "31     [52371, 18668, 18132, 5207, 4617, 320, 18, 10]  \n",
      "32  [25331, 22059, 17060, 16434, 9607, 3764, 2589,...  \n",
      "33  [17432, 16891, 13824, 13684, 9749, 7355, 5696,...  \n",
      "34  [47810, 11301, 10359, 10215, 9986, 5499, 2824,...  \n",
      "35  [55850, 29168, 6570, 3118, 2239, 1081, 806, 18...  \n",
      "36  [66245, 18984, 7300, 3271, 1574, 791, 474, 262...  \n",
      "37  [60234, 13954, 12902, 3691, 2128, 1993, 1184, ...  \n",
      "38  [88249, 7474, 1984, 706, 369, 190, 93, 72, 50,...  \n",
      "39  [82994, 8349, 3509, 1997, 1077, 514, 294, 154,...  \n",
      "40  [48616, 14237, 7419, 7252, 5279, 3059, 1539, 1...  \n",
      "41  [5976, 5888, 5696, 5694, 5592, 5324, 5245, 483...  \n",
      "42  [3153, 2752, 2447, 2331, 2180, 2163, 2142, 208...  \n",
      "43  [6663, 6550, 4015, 3448, 3383, 2720, 2240, 214...  \n",
      "44  [6589, 6459, 6051, 4892, 3722, 3246, 3212, 274...  \n",
      "45  [11466, 8241, 4953, 4412, 3785, 3635, 2504, 22...  \n",
      "46  [40, 28, 23, 23, 23, 22, 22, 21, 20, 20, 20, 2...  \n"
     ]
    }
   ],
   "source": [
    "column_unique_counts = pd.DataFrame(df.nunique().sort_values(), columns=['unique']).reset_index()\n",
    "column_unique_counts.rename(columns={'index': 'column'}, inplace=True)\n",
    "\n",
    "def fraction_of_unique_values(column):\n",
    "    '''gets the fraction and counts for each column in a df, based on df.nunique function'''\n",
    "    try:\n",
    "        unique_values, counts = np.unique(df[column], return_counts=True)\n",
    "    except TypeError:\n",
    "        unique_values, counts = np.unique(df[column].astype(str), return_counts=True)\n",
    "        \n",
    "    fraction = 100 * (counts / sum(counts))\n",
    "    \n",
    "    return np.sort(fraction)[::-1], np.sort(counts)[::-1]\n",
    "\n",
    "# Apply the function to each row\n",
    "column_unique_counts[['fraction_of_unique_values', 'counts']] = pd.DataFrame(column_unique_counts['column'].apply(fraction_of_unique_values).apply(pd.Series))\n",
    "\n",
    "print(column_unique_counts)\n"
   ]
  },
  {
   "cell_type": "code",
   "execution_count": 433,
   "metadata": {},
   "outputs": [
    {
     "data": {
      "text/plain": [
       "<bound method DataFrame.sort_values of                       column  unique  \\\n",
       "0                    examide       1   \n",
       "1                citoglipton       1   \n",
       "2                 readmitted       2   \n",
       "3              acetohexamide       2   \n",
       "4                tolbutamide       2   \n",
       "5               troglitazone       2   \n",
       "6                diabetesMed       2   \n",
       "7   glimepiride-pioglitazone       2   \n",
       "8    metformin-rosiglitazone       2   \n",
       "9                     change       2   \n",
       "10    metformin-pioglitazone       2   \n",
       "11       glipizide-metformin       2   \n",
       "12                tolazamide       3   \n",
       "13                    gender       3   \n",
       "14               glimepiride       4   \n",
       "15                 glipizide       4   \n",
       "16                 glyburide       4   \n",
       "17       glyburide-metformin       4   \n",
       "18                  acarbose       4   \n",
       "19                  miglitol       4   \n",
       "20            chlorpropamide       4   \n",
       "21                   insulin       4   \n",
       "22              pioglitazone       4   \n",
       "23             rosiglitazone       4   \n",
       "24               nateglinide       4   \n",
       "25                 metformin       4   \n",
       "26                 A1Cresult       4   \n",
       "27             max_glu_serum       4   \n",
       "28               repaglinide       4   \n",
       "29                      race       5   \n",
       "30            num_procedures       7   \n",
       "31         admission_type_id       8   \n",
       "32                       age      10   \n",
       "33          time_in_hospital      14   \n",
       "34          number_diagnoses      16   \n",
       "35       admission_source_id      17   \n",
       "36          number_inpatient      21   \n",
       "37  discharge_disposition_id      21   \n",
       "38          number_emergency      33   \n",
       "39         number_outpatient      39   \n",
       "40         medical_specialty      73   \n",
       "41           num_medications      75   \n",
       "42        num_lab_procedures     118   \n",
       "43                    diag_1     715   \n",
       "44                    diag_2     747   \n",
       "45                    diag_3     786   \n",
       "46               patient_nbr   69990   \n",
       "\n",
       "                            fraction_of_unique_values  \\\n",
       "0                                             [100.0]   \n",
       "1                                             [100.0]   \n",
       "2               [88.611175422526, 11.388824577474004]   \n",
       "3          [99.99899338654963, 0.0010066134503689237]   \n",
       "4             [99.97886111754225, 0.0211388824577474]   \n",
       "5           [99.9969801596489, 0.0030198403511067715]   \n",
       "6             [77.22637729885346, 22.773622701146532]   \n",
       "7          [99.99899338654963, 0.0010066134503689237]   \n",
       "8          [99.99798677309926, 0.0020132269007378475]   \n",
       "9                [53.5729744420845, 46.4270255579155]   \n",
       "10         [99.99899338654963, 0.0010066134503689237]   \n",
       "11            [99.9869140251452, 0.01308597485479601]   \n",
       "12  [99.96074207543562, 0.0382513111140191, 0.0010...   \n",
       "13  [53.807515376020454, 46.18946478362844, 0.0030...   \n",
       "14  [94.84412590721037, 4.63948139275037, 0.324129...   \n",
       "15  [87.38612685342702, 11.293196299688956, 0.7690...   \n",
       "16  [89.40740666176782, 9.22259243228008, 0.806297...   \n",
       "17  [99.29738381164249, 0.6885236000523439, 0.0080...   \n",
       "18  [99.69298289763748, 0.29393112750772576, 0.010...   \n",
       "19  [99.96174868888598, 0.03120501696143664, 0.005...   \n",
       "20  [99.91443785671864, 0.07851584912877606, 0.006...   \n",
       "21  [46.685725214660316, 30.267859839143167, 11.98...   \n",
       "22  [92.69701941757346, 6.953685715148526, 0.23152...   \n",
       "23  [93.6543088088743, 6.087998147831251, 0.172130...   \n",
       "24  [99.30644333269582, 0.6583251965412762, 0.0241...   \n",
       "25  [80.02476269087909, 18.327411090866995, 1.0700...   \n",
       "26  [83.05466917648954, 8.190813645651932, 4.95455...   \n",
       "27  [94.8139275036993, 2.5618312311889113, 1.42838...   \n",
       "28  [98.47196078233998, 1.3770472001046878, 0.1077...   \n",
       "29  [74.71085028638153, 18.89614769032544, 2.24877...   \n",
       "30  [45.98109579940207, 20.38392236997071, 12.4548...   \n",
       "31  [52.71735300927091, 18.79145989148707, 18.2519...   \n",
       "32  [25.49852531129521, 22.20488610168809, 17.1728...   \n",
       "33  [17.54728566683108, 17.002707790181493, 13.915...   \n",
       "34  [48.126189062138245, 11.375738602619208, 10.42...   \n",
       "35  [56.2193612031044, 29.360901120360772, 6.61345...   \n",
       "36  [66.68310801968936, 19.10954974180365, 7.34827...   \n",
       "37  [60.632354569521766, 14.046284086447963, 12.98...   \n",
       "38  [88.83263038160716, 7.523428928057337, 1.99712...   \n",
       "39  [83.54287669991847, 8.404215697130144, 3.53220...   \n",
       "40  [48.937519503135604, 14.33115569290237, 7.4680...   \n",
       "41  [6.015521979404689, 5.926939995772224, 5.73367...   \n",
       "42  [3.173852209013217, 2.7702002154152785, 2.4631...   \n",
       "43  [6.707065419808139, 6.593318099916451, 4.04155...   \n",
       "44  [6.632576024480839, 6.501716275932878, 6.09101...   \n",
       "45  [11.54182982193008, 8.2955014444903, 4.9857564...   \n",
       "46  [0.040264538014756955, 0.028185176610329866, 0...   \n",
       "\n",
       "                                               counts  \n",
       "0                                             [99343]  \n",
       "1                                             [99343]  \n",
       "2                                      [88029, 11314]  \n",
       "3                                          [99342, 1]  \n",
       "4                                         [99322, 21]  \n",
       "5                                          [99340, 3]  \n",
       "6                                      [76719, 22624]  \n",
       "7                                          [99342, 1]  \n",
       "8                                          [99341, 2]  \n",
       "9                                      [53221, 46122]  \n",
       "10                                         [99342, 1]  \n",
       "11                                        [99330, 13]  \n",
       "12                                     [99304, 38, 1]  \n",
       "13                                  [53454, 45886, 3]  \n",
       "14                            [94221, 4609, 322, 191]  \n",
       "15                           [86812, 11219, 764, 548]  \n",
       "16                            [88820, 9162, 801, 560]  \n",
       "17                                 [98645, 684, 8, 6]  \n",
       "18                                [99038, 292, 10, 3]  \n",
       "19                                  [99305, 31, 5, 2]  \n",
       "20                                  [99258, 78, 6, 1]  \n",
       "21                       [46379, 30069, 11908, 10987]  \n",
       "22                            [92088, 6908, 230, 117]  \n",
       "23                             [93039, 6048, 171, 85]  \n",
       "24                               [98654, 654, 24, 11]  \n",
       "25                          [79499, 18207, 1063, 574]  \n",
       "26                          [82509, 8137, 4922, 3775]  \n",
       "27                          [94191, 2545, 1419, 1188]  \n",
       "28                             [97825, 1368, 107, 43]  \n",
       "29              [74220, 18772, 2234, 2017, 1472, 628]  \n",
       "30      [45679, 20250, 12373, 9203, 4801, 4049, 2988]  \n",
       "31     [52371, 18668, 18132, 5207, 4617, 320, 18, 10]  \n",
       "32  [25331, 22059, 17060, 16434, 9607, 3764, 2589,...  \n",
       "33  [17432, 16891, 13824, 13684, 9749, 7355, 5696,...  \n",
       "34  [47810, 11301, 10359, 10215, 9986, 5499, 2824,...  \n",
       "35  [55850, 29168, 6570, 3118, 2239, 1081, 806, 18...  \n",
       "36  [66245, 18984, 7300, 3271, 1574, 791, 474, 262...  \n",
       "37  [60234, 13954, 12902, 3691, 2128, 1993, 1184, ...  \n",
       "38  [88249, 7474, 1984, 706, 369, 190, 93, 72, 50,...  \n",
       "39  [82994, 8349, 3509, 1997, 1077, 514, 294, 154,...  \n",
       "40  [48616, 14237, 7419, 7252, 5279, 3059, 1539, 1...  \n",
       "41  [5976, 5888, 5696, 5694, 5592, 5324, 5245, 483...  \n",
       "42  [3153, 2752, 2447, 2331, 2180, 2163, 2142, 208...  \n",
       "43  [6663, 6550, 4015, 3448, 3383, 2720, 2240, 214...  \n",
       "44  [6589, 6459, 6051, 4892, 3722, 3246, 3212, 274...  \n",
       "45  [11466, 8241, 4953, 4412, 3785, 3635, 2504, 22...  \n",
       "46  [40, 28, 23, 23, 23, 22, 22, 21, 20, 20, 20, 2...  >"
      ]
     },
     "execution_count": 433,
     "metadata": {},
     "output_type": "execute_result"
    }
   ],
   "source": [
    "column_unique_counts.sort_values"
   ]
  },
  {
   "cell_type": "code",
   "execution_count": 495,
   "metadata": {},
   "outputs": [
    {
     "data": {
      "text/html": [
       "<div>\n",
       "<style scoped>\n",
       "    .dataframe tbody tr th:only-of-type {\n",
       "        vertical-align: middle;\n",
       "    }\n",
       "\n",
       "    .dataframe tbody tr th {\n",
       "        vertical-align: top;\n",
       "    }\n",
       "\n",
       "    .dataframe thead th {\n",
       "        text-align: right;\n",
       "    }\n",
       "</style>\n",
       "<table border=\"1\" class=\"dataframe\">\n",
       "  <thead>\n",
       "    <tr style=\"text-align: right;\">\n",
       "      <th></th>\n",
       "      <th>column</th>\n",
       "      <th>unique</th>\n",
       "      <th>fraction_of_unique_values</th>\n",
       "      <th>counts</th>\n",
       "    </tr>\n",
       "  </thead>\n",
       "  <tbody>\n",
       "    <tr>\n",
       "      <th>2</th>\n",
       "      <td>readmitted</td>\n",
       "      <td>2</td>\n",
       "      <td>[88.611175422526, 11.388824577474004]</td>\n",
       "      <td>[88029, 11314]</td>\n",
       "    </tr>\n",
       "    <tr>\n",
       "      <th>3</th>\n",
       "      <td>acetohexamide</td>\n",
       "      <td>2</td>\n",
       "      <td>[99.99899338654963, 0.0010066134503689237]</td>\n",
       "      <td>[99342, 1]</td>\n",
       "    </tr>\n",
       "    <tr>\n",
       "      <th>4</th>\n",
       "      <td>tolbutamide</td>\n",
       "      <td>2</td>\n",
       "      <td>[99.97886111754225, 0.0211388824577474]</td>\n",
       "      <td>[99322, 21]</td>\n",
       "    </tr>\n",
       "    <tr>\n",
       "      <th>5</th>\n",
       "      <td>troglitazone</td>\n",
       "      <td>2</td>\n",
       "      <td>[99.9969801596489, 0.0030198403511067715]</td>\n",
       "      <td>[99340, 3]</td>\n",
       "    </tr>\n",
       "    <tr>\n",
       "      <th>6</th>\n",
       "      <td>diabetesMed</td>\n",
       "      <td>2</td>\n",
       "      <td>[77.22637729885346, 22.773622701146532]</td>\n",
       "      <td>[76719, 22624]</td>\n",
       "    </tr>\n",
       "    <tr>\n",
       "      <th>7</th>\n",
       "      <td>glimepiride-pioglitazone</td>\n",
       "      <td>2</td>\n",
       "      <td>[99.99899338654963, 0.0010066134503689237]</td>\n",
       "      <td>[99342, 1]</td>\n",
       "    </tr>\n",
       "    <tr>\n",
       "      <th>8</th>\n",
       "      <td>metformin-rosiglitazone</td>\n",
       "      <td>2</td>\n",
       "      <td>[99.99798677309926, 0.0020132269007378475]</td>\n",
       "      <td>[99341, 2]</td>\n",
       "    </tr>\n",
       "    <tr>\n",
       "      <th>9</th>\n",
       "      <td>change</td>\n",
       "      <td>2</td>\n",
       "      <td>[53.5729744420845, 46.4270255579155]</td>\n",
       "      <td>[53221, 46122]</td>\n",
       "    </tr>\n",
       "    <tr>\n",
       "      <th>10</th>\n",
       "      <td>metformin-pioglitazone</td>\n",
       "      <td>2</td>\n",
       "      <td>[99.99899338654963, 0.0010066134503689237]</td>\n",
       "      <td>[99342, 1]</td>\n",
       "    </tr>\n",
       "    <tr>\n",
       "      <th>11</th>\n",
       "      <td>glipizide-metformin</td>\n",
       "      <td>2</td>\n",
       "      <td>[99.9869140251452, 0.01308597485479601]</td>\n",
       "      <td>[99330, 13]</td>\n",
       "    </tr>\n",
       "  </tbody>\n",
       "</table>\n",
       "</div>"
      ],
      "text/plain": [
       "                      column  unique  \\\n",
       "2                 readmitted       2   \n",
       "3              acetohexamide       2   \n",
       "4                tolbutamide       2   \n",
       "5               troglitazone       2   \n",
       "6                diabetesMed       2   \n",
       "7   glimepiride-pioglitazone       2   \n",
       "8    metformin-rosiglitazone       2   \n",
       "9                     change       2   \n",
       "10    metformin-pioglitazone       2   \n",
       "11       glipizide-metformin       2   \n",
       "\n",
       "                     fraction_of_unique_values          counts  \n",
       "2        [88.611175422526, 11.388824577474004]  [88029, 11314]  \n",
       "3   [99.99899338654963, 0.0010066134503689237]      [99342, 1]  \n",
       "4      [99.97886111754225, 0.0211388824577474]     [99322, 21]  \n",
       "5    [99.9969801596489, 0.0030198403511067715]      [99340, 3]  \n",
       "6      [77.22637729885346, 22.773622701146532]  [76719, 22624]  \n",
       "7   [99.99899338654963, 0.0010066134503689237]      [99342, 1]  \n",
       "8   [99.99798677309926, 0.0020132269007378475]      [99341, 2]  \n",
       "9         [53.5729744420845, 46.4270255579155]  [53221, 46122]  \n",
       "10  [99.99899338654963, 0.0010066134503689237]      [99342, 1]  \n",
       "11     [99.9869140251452, 0.01308597485479601]     [99330, 13]  "
      ]
     },
     "execution_count": 495,
     "metadata": {},
     "output_type": "execute_result"
    }
   ],
   "source": [
    "# lets loo at all the couloumns that have only two unique values\n",
    "column_unique_counts[column_unique_counts.unique==2]\n",
    "\n",
    "# We can see that may columns may have 2 unique values but the fraction of each value is neglible, we will remove this features"
   ]
  },
  {
   "cell_type": "code",
   "execution_count": 435,
   "metadata": {},
   "outputs": [
    {
     "data": {
      "text/plain": [
       "array([100.])"
      ]
     },
     "execution_count": 435,
     "metadata": {},
     "output_type": "execute_result"
    }
   ],
   "source": [
    "column_unique_counts.fraction_of_unique_values.iloc[0]"
   ]
  },
  {
   "cell_type": "code",
   "execution_count": 496,
   "metadata": {
    "scrolled": true
   },
   "outputs": [
    {
     "data": {
      "text/plain": [
       "array(['examide', 'citoglipton', 'acetohexamide', 'tolbutamide',\n",
       "       'troglitazone', 'glimepiride-pioglitazone',\n",
       "       'metformin-rosiglitazone', 'metformin-pioglitazone',\n",
       "       'glipizide-metformin', 'tolazamide', 'glyburide-metformin',\n",
       "       'acarbose', 'miglitol', 'chlorpropamide', 'nateglinide',\n",
       "       'repaglinide'], dtype=object)"
      ]
     },
     "execution_count": 496,
     "metadata": {},
     "output_type": "execute_result"
    }
   ],
   "source": [
    "# Looking at the percentage of unique values in each column, we decided to examine all columns where one of the values comprises more than 95 percent of the data. and remove the columns\n",
    "threshold = 95\n",
    "def is_one_of_the_values_have_bigger_fraction_then(fraction, threshold):\n",
    "    '''cheack if a value in a list is bigger of threshold, return bool'''\n",
    "    return (fraction > threshold).any()\n",
    "\n",
    "coloumn_with_bed_value_destribution = column_unique_counts.apply(lambda row: is_one_of_the_values_have_bigger_fraction_then(row.fraction_of_unique_values, 95), axis=1)\n",
    "coloumns_to_remove = column_unique_counts[coloumn_with_bed_value_destribution].column.values\n",
    "coloumns_to_remove\n",
    "\n",
    "df_witout_bed_columns = df.drop(columns=coloumns_to_remove)"
   ]
  },
  {
   "cell_type": "code",
   "execution_count": 498,
   "metadata": {},
   "outputs": [
    {
     "data": {
      "text/plain": [
       "(99343, 31)"
      ]
     },
     "execution_count": 498,
     "metadata": {},
     "output_type": "execute_result"
    }
   ],
   "source": [
    "df_witout_bed_columns.shape"
   ]
  },
  {
   "cell_type": "code",
   "execution_count": 499,
   "metadata": {},
   "outputs": [
    {
     "data": {
      "text/plain": [
       "(array(['10', '11', '110', '111', '112', '114', '115', '117', '122', '123',\n",
       "        '131', '132', '133', '135', '136', '137', '138', '139', '14',\n",
       "        '140', '141', '142', '143', '145', '146', '147', '148', '149',\n",
       "        '150', '151', '152', '153', '154', '155', '156', '157', '158',\n",
       "        '160', '161', '162', '163', '164', '17', '170', '171', '172',\n",
       "        '173', '174', '175', '179', '180', '182', '183', '184', '185',\n",
       "        '186', '187', '188', '189', '191', '192', '193', '194', '195',\n",
       "        '196', '197', '198', '199', '200', '201', '202', '203', '204',\n",
       "        '205', '207', '208', '210', '211', '212', '214', '215', '216',\n",
       "        '217', '218', '219', '220', '223', '225', '226', '227', '228',\n",
       "        '229', '23', '230', '232', '233', '235', '236', '237', '238',\n",
       "        '239', '240', '241', '242', '243', '244', '245', '246', '250',\n",
       "        '250.01', '250.02', '250.03', '250.1', '250.11', '250.12',\n",
       "        '250.13', '250.2', '250.21', '250.22', '250.23', '250.3', '250.31',\n",
       "        '250.32', '250.33', '250.4', '250.41', '250.42', '250.43', '250.5',\n",
       "        '250.51', '250.52', '250.53', '250.6', '250.7', '250.8', '250.81',\n",
       "        '250.82', '250.83', '250.9', '250.91', '250.92', '250.93', '251',\n",
       "        '252', '253', '255', '256', '258', '259', '260', '261', '262',\n",
       "        '263', '265', '266', '268', '269', '27', '270', '271', '272',\n",
       "        '273', '274', '275', '276', '277', '278', '279', '280', '281',\n",
       "        '282', '283', '284', '285', '286', '287', '288', '289', '290',\n",
       "        '291', '292', '293', '294', '295', '296', '297', '298', '299', '3',\n",
       "        '300', '301', '302', '303', '304', '305', '306', '307', '308',\n",
       "        '309', '31', '310', '311', '312', '313', '314', '315', '316',\n",
       "        '317', '318', '319', '320', '322', '323', '324', '325', '327',\n",
       "        '331', '332', '333', '334', '335', '336', '337', '338', '34',\n",
       "        '340', '341', '342', '343', '344', '345', '346', '347', '348',\n",
       "        '349', '35', '350', '351', '352', '353', '354', '355', '356',\n",
       "        '357', '358', '359', '36', '360', '361', '362', '363', '364',\n",
       "        '365', '365.44', '366', '368', '369', '370', '372', '373', '374',\n",
       "        '375', '376', '377', '378', '379', '38', '380', '381', '382',\n",
       "        '383', '384', '385', '386', '387', '388', '389', '39', '391',\n",
       "        '394', '395', '396', '397', '398', '40', '401', '402', '403',\n",
       "        '404', '405', '41', '410', '411', '412', '413', '414', '415',\n",
       "        '416', '417', '42', '420', '421', '422', '423', '424', '425',\n",
       "        '426', '427', '428', '429', '430', '431', '432', '433', '434',\n",
       "        '435', '436', '437', '438', '440', '441', '442', '443', '444',\n",
       "        '445', '446', '447', '448', '451', '452', '453', '454', '455',\n",
       "        '456', '457', '458', '459', '46', '460', '461', '462', '463',\n",
       "        '464', '465', '466', '47', '470', '471', '472', '473', '474',\n",
       "        '475', '477', '478', '48', '480', '481', '482', '483', '484',\n",
       "        '485', '486', '487', '49', '490', '491', '492', '493', '494',\n",
       "        '495', '496', '5', '500', '501', '506', '507', '508', '510', '511',\n",
       "        '512', '513', '514', '515', '516', '517', '518', '519', '52',\n",
       "        '520', '521', '522', '523', '524', '525', '526', '527', '528',\n",
       "        '529', '53', '530', '531', '532', '533', '534', '535', '536',\n",
       "        '537', '538', '54', '540', '541', '542', '543', '550', '551',\n",
       "        '552', '553', '555', '556', '557', '558', '560', '562', '564',\n",
       "        '565', '566', '567', '568', '569', '57', '570', '571', '572',\n",
       "        '573', '574', '575', '576', '577', '578', '579', '58', '580',\n",
       "        '581', '582', '583', '584', '585', '586', '588', '590', '591',\n",
       "        '592', '593', '594', '595', '596', '597', '598', '599', '600',\n",
       "        '601', '602', '603', '604', '605', '607', '608', '61', '610',\n",
       "        '611', '614', '615', '616', '617', '618', '619', '620', '621',\n",
       "        '622', '623', '624', '625', '626', '627', '632', '633', '634',\n",
       "        '637', '640', '641', '642', '643', '644', '645', '646', '647',\n",
       "        '648', '649', '652', '653', '654', '655', '656', '657', '658',\n",
       "        '659', '66', '660', '661', '663', '664', '665', '669', '670',\n",
       "        '671', '674', '680', '681', '682', '683', '684', '685', '686',\n",
       "        '690', '691', '692', '693', '694', '695', '696', '697', '698', '7',\n",
       "        '70', '700', '701', '702', '703', '704', '705', '706', '707',\n",
       "        '708', '709', '710', '711', '712', '713', '714', '715', '716',\n",
       "        '717', '718', '719', '720', '721', '722', '723', '724', '725',\n",
       "        '726', '727', '728', '729', '730', '731', '732', '733', '734',\n",
       "        '735', '736', '737', '738', '741', '742', '744', '745', '746',\n",
       "        '747', '748', '75', '750', '751', '752', '753', '754', '755',\n",
       "        '756', '757', '758', '759', '78', '780', '781', '782', '783',\n",
       "        '784', '785', '786', '787', '788', '789', '79', '790', '791',\n",
       "        '792', '793', '794', '795', '796', '797', '799', '8', '800', '801',\n",
       "        '802', '803', '805', '806', '807', '808', '810', '811', '812',\n",
       "        '813', '814', '815', '816', '817', '82', '820', '821', '822',\n",
       "        '823', '824', '825', '826', '827', '831', '832', '833', '834',\n",
       "        '835', '836', '837', '838', '839', '84', '840', '841', '842',\n",
       "        '843', '844', '845', '846', '847', '848', '850', '851', '852',\n",
       "        '853', '854', '860', '861', '862', '863', '864', '865', '866',\n",
       "        '867', '868', '869', '870', '871', '872', '873', '875', '876',\n",
       "        '877', '878', '879', '88', '880', '881', '882', '883', '884',\n",
       "        '885', '886', '890', '891', '892', '893', '894', '895', '897', '9',\n",
       "        '903', '904', '905', '906', '907', '908', '909', '910', '911',\n",
       "        '912', '913', '914', '915', '916', '917', '918', '919', '920',\n",
       "        '921', '922', '923', '924', '927', '928', '930', '933', '934',\n",
       "        '935', '936', '939', '94', '941', '942', '943', '944', '945',\n",
       "        '947', '948', '951', '952', '953', '955', '956', '957', '958',\n",
       "        '959', '96', '962', '963', '964', '965', '966', '967', '968',\n",
       "        '969', '97', '970', '971', '972', '973', '974', '975', '976',\n",
       "        '977', '98', '980', '982', '983', '986', '987', '988', '989', '99',\n",
       "        '990', '991', '992', '994', '995', '996', '997', '998', '999',\n",
       "        'E812', 'E813', 'E814', 'E815', 'E816', 'E817', 'E818', 'E819',\n",
       "        'E821', 'E822', 'E825', 'E826', 'E828', 'E829', 'E849', 'E850',\n",
       "        'E852', 'E853', 'E854', 'E855', 'E858', 'E861', 'E864', 'E865',\n",
       "        'E868', 'E870', 'E876', 'E878', 'E879', 'E880', 'E881', 'E882',\n",
       "        'E883', 'E884', 'E885', 'E886', 'E887', 'E888', 'E890', 'E892',\n",
       "        'E894', 'E900', 'E901', 'E904', 'E905', 'E906', 'E909', 'E912',\n",
       "        'E915', 'E916', 'E917', 'E918', 'E919', 'E920', 'E922', 'E924',\n",
       "        'E927', 'E928', 'E929', 'E930', 'E931', 'E932', 'E933', 'E934',\n",
       "        'E935', 'E936', 'E937', 'E938', 'E939', 'E941', 'E942', 'E943',\n",
       "        'E944', 'E945', 'E946', 'E947', 'E949', 'E950', 'E956', 'E965',\n",
       "        'E966', 'E968', 'E980', 'E987', 'V01', 'V02', 'V03', 'V06', 'V07',\n",
       "        'V08', 'V09', 'V10', 'V11', 'V12', 'V13', 'V14', 'V15', 'V16',\n",
       "        'V17', 'V18', 'V22', 'V23', 'V25', 'V26', 'V27', 'V42', 'V43',\n",
       "        'V44', 'V45', 'V46', 'V49', 'V50', 'V51', 'V53', 'V54', 'V55',\n",
       "        'V56', 'V57', 'V58', 'V60', 'V61', 'V62', 'V63', 'V64', 'V65',\n",
       "        'V66', 'V67', 'V69', 'V70', 'V71', 'V72', 'V85', 'V86', 'nan'],\n",
       "       dtype='<U6'),\n",
       " array([    1,    15,    30,     2,   471,     2,     4,    25,     1,\n",
       "            2,    11,     3,     1,   203,    13,     1,    42,     2,\n",
       "            1,     1,    12,     4,     1,     2,     4,     2,     2,\n",
       "            2,    70,    86,    28,   452,   144,    82,    34,   197,\n",
       "           12,     1,    13,   858,    13,     4,     1,     6,    17,\n",
       "           16,     6,   212,     6,    12,    11,   112,    51,    10,\n",
       "          243,     2,     2,   134,   192,    54,     7,    33,     2,\n",
       "            9,   331,   918,   688,    55,    42,    38,   390,   178,\n",
       "          195,    97,     1,    20,     7,   257,     9,    17,     8,\n",
       "            3,     5,   224,     1,    59,    10,    58,    22,    58,\n",
       "           14,     2,     2,    10,     1,    46,    31,     4,     7,\n",
       "          111,    41,    10,    79,   189,     1,   700,    12,    12,\n",
       "        17752,  2473,  4066,   564,   344,   717,   543,   963,   129,\n",
       "           19,   195,    34,    21,    14,    21,    21,   853,   504,\n",
       "          321,   120,   184,   193,   134,    64,  3142,  1123,  2169,\n",
       "          329,   694,   151,    23,    18,   395,    52,    32,    68,\n",
       "          136,   161,     6,     7,     5,    18,    30,    22,   401,\n",
       "            1,    28,     4,     2,     6,     8,     5,  2390,    26,\n",
       "          190,   169, 13381,   132,  1327,    23,  1312,    72,   157,\n",
       "           59,   348,  3052,   271,   768,   275,    97,   211,   208,\n",
       "          263,   209,   572,  1152,  1273,    26,   122,    13,    13,\n",
       "          477,   157,     1,   559,   362,  1645,    19,    54,     7,\n",
       "          133,     6,    29,   355,    56,     4,    16,     1,     1,\n",
       "           21,    12,    45,    11,     9,    19,    14,     2,   140,\n",
       "          467,   182,    81,     7,    20,    13,   159,    67,    23,\n",
       "          221,    11,   382,    24,   129,   188,   138,     6,   310,\n",
       "           82,    15,    14,    44,     4,    10,    28,    39,    44,\n",
       "          489,    59,    29,     2,     8,     6,   104,     1,     1,\n",
       "           28,     1,     9,    67,    34,     4,    14,     7,     6,\n",
       "            1,    17,     8,    39,    14,  2059,    38,     4,    31,\n",
       "           19,     4,     3,   187,     1,    11,    20,     2,     2,\n",
       "           49,     9,   429,   221,   189,    12, 12309,  1141,  5515,\n",
       "          574,    15,  1105,  4140,  3197,   447,  1481, 12827,   552,\n",
       "          329,     5,   148,    96,    64,     5,   110,  2261,  2583,\n",
       "          849, 11397, 17534,   133,    28,   144,   107,  1071,  2141,\n",
       "         1165,   199,   245,   649,  1444,   212,    74,   385,   299,\n",
       "           10,    80,   128,     5,    79,    15,  1076,    28,   206,\n",
       "          130,    41,   840,   253,     1,     3,    50,    44,     9,\n",
       "           17,   174,   475,    27,    10,     1,     7,   119,     6,\n",
       "           16,    20,    92,     2,    25,   111,   470,     9,     4,\n",
       "           50,  5182,   135,     6,   199,  4282,   409,  2620,    50,\n",
       "           14,  5830,    13,    11,    20,     9,   723,    16,    45,\n",
       "         1117,   120,    21,    62,   418,    70,    52,  2869,   107,\n",
       "            3,     1,    29,    42,     6,    12,     3,     7,    34,\n",
       "           31,     8,   109,  1438,   371,   266,    54,    29,   924,\n",
       "          612,   168,     1,    35,   210,     9,     6,     7,    71,\n",
       "            8,   294,   359,   102,    80,   227,   550,  1532,  1312,\n",
       "          351,    25,   111,   167,   158,   562,     2,    27,   955,\n",
       "          346,   136,  1442,   320,   221,  1588,  1224,    25,     2,\n",
       "           12,   193,    14,   116,  3867,  3823,    41,    39,   512,\n",
       "          390,   492,   554,    30,   212,   195,     2,    24,  6646,\n",
       "          324,    57,     6,     7,    47,     8,    45,    91,     1,\n",
       "           12,    74,    72,     3,    75,    64,   226,    18,   105,\n",
       "           43,     8,    14,     2,   160,   136,    47,     3,     4,\n",
       "            4,     1,     1,    13,   124,     7,    38,     5,    35,\n",
       "           22,   730,    11,    24,     6,   107,     8,    35,     3,\n",
       "           34,    62,     8,    18,    31,    23,    38,     9,     4,\n",
       "            3,     2,     6,    49,   225,  4323,     3,     8,    15,\n",
       "           25,     3,     4,    25,    49,    23,    22,    43,     1,\n",
       "           16,     5,   590,     1,    13,     3,     6,    10,    26,\n",
       "           15,  3517,    15,    33,   296,   133,    13,    20,   162,\n",
       "         2482,   153,    25,    38,   240,     7,   293,  1031,   166,\n",
       "          731,    31,   151,   104,   356,   341,   661,   210,     3,\n",
       "          739,     7,     4,    54,    39,   104,    18,     7,     1,\n",
       "           39,    32,    20,     1,     5,     9,    13,     6,    37,\n",
       "            2,     3,    34,     1,    13,    14,    14,  4769,   365,\n",
       "          275,   106,   561,   922,  5236,   817,   779,  1164,   161,\n",
       "          556,    21,    33,    17,   196,     7,    27,     7,   663,\n",
       "          880,     6,    36,    75,     1,   293,     4,   163,   200,\n",
       "           20,     2,   300,   125,     9,    15,    24,     1,     7,\n",
       "         1139,   171,    56,   151,   354,    39,    11,     1,    16,\n",
       "            2,     2,     2,     5,    23,     5,     2,     1,     1,\n",
       "           42,     1,     7,    13,    37,    27,     5,    23,     4,\n",
       "           89,    38,   108,    19,     7,    59,    29,     9,     6,\n",
       "           16,    16,    12,    34,    10,     2,     6,     4,     3,\n",
       "           97,     3,     1,     1,     2,     5,    12,     4,    22,\n",
       "           23,    24,     2,     1,     4,     7,    21,    27,     7,\n",
       "            1,     1,     2,    58,     1,     2,    28,     7,    14,\n",
       "            6,    11,    10,     5,     4,    10,     2,     6,    17,\n",
       "           10,     4,     7,    70,    11,    64,    30,   118,     1,\n",
       "            5,     1,    18,    17,    14,     3,     1,    54,     2,\n",
       "            6,     2,     4,    23,     1,     3,     1,    12,     3,\n",
       "            3,     2,     1,    45,    78,     1,    65,     3,     8,\n",
       "           64,    15,    21,     9,    74,     1,     9,     4,    21,\n",
       "            2,     2,     3,     1,    14,     1,     5,     1,     5,\n",
       "            3,     5,     1,    17,     1,     3,    17,    12,     2,\n",
       "          460,  2661,  1076,  1650,    85,    27,     3,     2,     1,\n",
       "           12,     3,     5,    10,     2,     1,     1,     2,     1,\n",
       "            1,   271,     6,     2,     3,     2,     2,     8,     1,\n",
       "            1,     1,     1,    10,     1,   275,    79,    45,    13,\n",
       "            2,     2,    45,   228,     1,     9,   239,     1,     1,\n",
       "            1,     2,     2,     1,     6,     8,     1,     1,     2,\n",
       "            5,    10,     1,     3,     3,     1,     5,    13,    25,\n",
       "            8,    22,    15,   109,    21,    31,    54,    14,    11,\n",
       "            7,    33,     7,    86,     3,    31,     2,     2,    59,\n",
       "            1,    27,     3,     2,     1,     1,     4,     1,     1,\n",
       "            8,     6,     2,     2,    26,    95,   334,     4,   266,\n",
       "            6,    15,   462,     9,    31,    23,     1,     7,     4,\n",
       "            2,    37,   505,   341,    36,  1789,    70,    93,     1,\n",
       "            1,    53,   180,    80,    16,  1216,   883,     6,     7,\n",
       "           95,    49,    71,    47,    11,     1,     1,    10,     9,\n",
       "           21,   263,     5,  1795], dtype=int64))"
      ]
     },
     "execution_count": 499,
     "metadata": {},
     "output_type": "execute_result"
    },
    {
     "data": {
      "text/plain": [
       "913"
      ]
     },
     "execution_count": 499,
     "metadata": {},
     "output_type": "execute_result"
    }
   ],
   "source": [
    "# we have 3 coloumns that are basicly thesame diag_1, diag_2, and diag_3: we decided to turn it to unite and turn it to categorical featurs \n",
    "values = df_witout_bed_columns[['diag_1','diag_2','diag_3']].values.flatten()\n",
    "unique_values, counts = np.unique(values.astype(str), return_counts=True)\n",
    "unique_values, counts\n",
    "len(unique_values)"
   ]
  },
  {
   "cell_type": "markdown",
   "metadata": {},
   "source": [
    "ICD-9-CM stands for the International Classification of Diseases, Ninth Revision, Clinical Modification. It is a system of codes used for classifying diseases and health conditions. The ICD-9-CM was used in the United States until it was replaced by ICD-10-CM on October 1, 2015. Despite its replacement, ICD-9-CM codes may still be found in historical medical records.\n",
    "\n",
    "Each ICD-9-CM code is alphanumeric and consists of up to five digits. Here's a breakdown of how to read the codes:\n",
    "\n",
    "1. **First Digit (Numeric):** The first digit represents the category of the disease or condition.\n",
    "\n",
    "2. **Second and Third Digits (Numeric):** These digits further specify the cause, location, severity, and type of the condition within the category.\n",
    "\n",
    "3. **Fourth and Fifth Digits (Alphanumeric):** These digits provide additional detail, such as etiology, anatomical site, or a specific condition.\n",
    "\n",
    "For example, consider the ICD-9-CM code 401.9:\n",
    "\n",
    "- **401:** This is the category code for hypertensive heart disease.\n",
    "- **.9:** These digits provide additional specificity. In this case, \".9\" indicates that the code is unspecified, meaning it does not provide further detail about the type or severity of hypertensive heart disease.\n",
    "\n",
    "\n",
    "In the ICD-9-CM coding system, the first digit of a code represents a broad category or major classification of diseases or conditions. The first digit is numeric, and it falls into one of the following general categories:\r\n",
    "1. \r\n",
    "001–139: Infectious and Parasitic Disease2. s\r\n",
    "140–239: Neoplasms (Tumor3. s)\r\n",
    "240–279: Endocrine, Nutritional, and Metabolic Diseases, and Immunity Disord4. ers\r\n",
    "280–289: Diseases of the Blood and Blood-Forming Or5. gans\r\n",
    "290–319: Mental Diso6. rders\r\n",
    "320–389: Diseases of the Nervous System and Sense 7. Organs\r\n",
    "390–459: Diseases of the Circulatory8.  System\r\n",
    "460–519: Diseases of the Respirator9. y System\r\n",
    "520–579: Diseases of the Digesti10. ve System\r\n",
    "580–629: Diseases of the Genitourin11. ary System\r\n",
    "630–679: Complications of Pregnancy, Childbirth, and the12.  Puerperium\r\n",
    "680–709: Diseases of the Skin and Subcuta13. neous Tissue\r\n",
    "710–739: Diseases of the Musculoskeletal System and Conn14. ective Tissue\r\n",
    "740–759: Congen15. ital Anomalies\r\n",
    "760–779: Certain Conditions Originating in the P16. erinatal Period\r\n",
    "780–799: Symptoms, Signs, and Ill-De17. fined Conditions\r\n",
    "800–999: Inj18. uoisoning\r\n",
    "E800–E999: Supplementary Classification of External Causes of In19. V: codes are used for factors influencing health status and contact with health services. These codes cover a broad range of circumstances that may not be classified as diseases but are relevant to healthcare encounters.\n",
    "heth servicesjury and Poisoning\n",
    "\n",
    "\n",
    "\n",
    "\n",
    "\n",
    "\n",
    "if we are looking at the unique values we are seeing a lot of variation, dou to unique case in digits 4 and 5 in the code, lets change\n",
    "then we will unite al desises that are in the same catagory \n",
    " it to the first three digits only.\n",
    "we will take only diagnostics that are in 2.5 percent or more in the cases\n",
    "and we will remove '250' becuse all pationt are diabitic"
   ]
  },
  {
   "cell_type": "code",
   "execution_count": 500,
   "metadata": {
    "scrolled": true
   },
   "outputs": [
    {
     "data": {
      "text/plain": [
       "daig__1.0      6.050753\n",
       "daig__2.0      5.638042\n",
       "daig__3.0     49.463978\n",
       "daig__4.0      6.260129\n",
       "daig__5.0      6.577212\n",
       "daig__6.0      3.960017\n",
       "daig__7.0     57.654792\n",
       "daig__8.0     21.638163\n",
       "daig__9.0     13.484594\n",
       "daig__10.0    16.864802\n",
       "daig__11.0     0.696577\n",
       "daig__12.0     7.271776\n",
       "daig__13.0     7.539535\n",
       "daig__14.0     0.249640\n",
       "daig__16.0    15.342802\n",
       "daig__17.0     9.845686\n",
       "daig__18.0     1.820964\n",
       "daig__19.0     6.671834\n",
       "dtype: float64"
      ]
     },
     "execution_count": 500,
     "metadata": {},
     "output_type": "execute_result"
    }
   ],
   "source": [
    "# changing diag to categoricl data. each patiant can have more then one option\n",
    "\n",
    "df_witout_bed_columns.reset_index(inplace=True)\n",
    "daig = df_witout_bed_columns.melt(id_vars='encounter_id', value_vars=['diag_1','diag_2','diag_3']).drop(columns='variable')\n",
    "\n",
    "diag_dict = {1: range(0,140), 2: range(140, 240), 3: range(240,280), 4: range(280,290), 5:range(290,320),\n",
    "            6: range(320, 390), 7: range(390,460), 8: range(460, 520), 9: range(520, 580), 10: range(580,630),\n",
    "            11: range(630, 680), 12: range(680,710), 13: range(710, 740), 14: range(740, 760), 15: range(760, 780),\n",
    "            16: range(780, 800), 17: range(800, 1000), 18: 'E', 19:'V'}\n",
    "\n",
    "diag_dict = {value: key for key, values_list in diag_dict.items() for value in values_list}\n",
    "\n",
    "\n",
    "def change_value(value): \n",
    "    value = str(value).split('.')[0]\n",
    "    try:\n",
    "        \n",
    "        return diag_dict[int(value)]\n",
    "    except ValueError:\n",
    "        try:\n",
    "            return diag_dict[str(value[0]).upper()]\n",
    "        except KeyError:\n",
    "            return np.nan\n",
    "\n",
    "\n",
    "diag = df_witout_bed_columns.melt(id_vars='encounter_id', value_vars=['diag_1','diag_2','diag_3']).drop(columns='variable')\n",
    "\n",
    "        \n",
    "diag.value = daig.apply(lambda row: change_value(row.value), axis=1)\n",
    "diag = pd.get_dummies(diag, columns=['value'], prefix='daig_').groupby('encounter_id').sum()\n",
    "\n",
    "diag=diag>0\n",
    "diag.astype(int).sum(axis=0)/len(diag) *100\n",
    "\n",
    "df_with_diag = pd.concat([df_witout_bed_columns.set_index('encounter_id'), diag], axis=1)\n",
    "df_with_diag.drop(columns=['diag_1','diag_2','diag_3'], inplace=True)\n"
   ]
  },
  {
   "cell_type": "code",
   "execution_count": 501,
   "metadata": {},
   "outputs": [
    {
     "data": {
      "text/plain": [
       "Index(['patient_nbr', 'race', 'gender', 'age', 'admission_type_id',\n",
       "       'discharge_disposition_id', 'admission_source_id', 'time_in_hospital',\n",
       "       'medical_specialty', 'num_lab_procedures', 'num_procedures',\n",
       "       'num_medications', 'number_outpatient', 'number_emergency',\n",
       "       'number_inpatient', 'number_diagnoses', 'max_glu_serum', 'A1Cresult',\n",
       "       'metformin', 'glimepiride', 'glipizide', 'glyburide', 'pioglitazone',\n",
       "       'rosiglitazone', 'insulin', 'change', 'diabetesMed', 'readmitted',\n",
       "       'daig__1.0', 'daig__2.0', 'daig__3.0', 'daig__4.0', 'daig__5.0',\n",
       "       'daig__6.0', 'daig__7.0', 'daig__8.0', 'daig__9.0', 'daig__10.0',\n",
       "       'daig__11.0', 'daig__12.0', 'daig__13.0', 'daig__14.0', 'daig__16.0',\n",
       "       'daig__17.0', 'daig__18.0', 'daig__19.0'],\n",
       "      dtype='object')"
      ]
     },
     "execution_count": 501,
     "metadata": {},
     "output_type": "execute_result"
    }
   ],
   "source": [
    "df_with_diag.keys()"
   ]
  },
  {
   "cell_type": "code",
   "execution_count": 506,
   "metadata": {},
   "outputs": [
    {
     "data": {
      "text/html": [
       "<div>\n",
       "<style scoped>\n",
       "    .dataframe tbody tr th:only-of-type {\n",
       "        vertical-align: middle;\n",
       "    }\n",
       "\n",
       "    .dataframe tbody tr th {\n",
       "        vertical-align: top;\n",
       "    }\n",
       "\n",
       "    .dataframe thead th {\n",
       "        text-align: right;\n",
       "    }\n",
       "</style>\n",
       "<table border=\"1\" class=\"dataframe\">\n",
       "  <thead>\n",
       "    <tr style=\"text-align: right;\">\n",
       "      <th></th>\n",
       "      <th>patient_nbr</th>\n",
       "      <th>race</th>\n",
       "      <th>age</th>\n",
       "      <th>admission_type_id</th>\n",
       "      <th>admission_source_id</th>\n",
       "      <th>time_in_hospital</th>\n",
       "      <th>medical_specialty</th>\n",
       "      <th>num_lab_procedures</th>\n",
       "      <th>num_procedures</th>\n",
       "      <th>num_medications</th>\n",
       "      <th>...</th>\n",
       "      <th>daig__13.0</th>\n",
       "      <th>daig__14.0</th>\n",
       "      <th>daig__16.0</th>\n",
       "      <th>daig__17.0</th>\n",
       "      <th>daig__18.0</th>\n",
       "      <th>daig__19.0</th>\n",
       "      <th>gender_Female</th>\n",
       "      <th>gender_Male</th>\n",
       "      <th>discharge_home</th>\n",
       "      <th>discharge_other</th>\n",
       "    </tr>\n",
       "    <tr>\n",
       "      <th>encounter_id</th>\n",
       "      <th></th>\n",
       "      <th></th>\n",
       "      <th></th>\n",
       "      <th></th>\n",
       "      <th></th>\n",
       "      <th></th>\n",
       "      <th></th>\n",
       "      <th></th>\n",
       "      <th></th>\n",
       "      <th></th>\n",
       "      <th></th>\n",
       "      <th></th>\n",
       "      <th></th>\n",
       "      <th></th>\n",
       "      <th></th>\n",
       "      <th></th>\n",
       "      <th></th>\n",
       "      <th></th>\n",
       "      <th></th>\n",
       "      <th></th>\n",
       "      <th></th>\n",
       "    </tr>\n",
       "  </thead>\n",
       "  <tbody>\n",
       "    <tr>\n",
       "      <th>2278392</th>\n",
       "      <td>8222157</td>\n",
       "      <td>Caucasian</td>\n",
       "      <td>[0-10)</td>\n",
       "      <td>6</td>\n",
       "      <td>1</td>\n",
       "      <td>1</td>\n",
       "      <td>Pediatrics-Endocrinology</td>\n",
       "      <td>41</td>\n",
       "      <td>0</td>\n",
       "      <td>1</td>\n",
       "      <td>...</td>\n",
       "      <td>False</td>\n",
       "      <td>False</td>\n",
       "      <td>False</td>\n",
       "      <td>False</td>\n",
       "      <td>False</td>\n",
       "      <td>False</td>\n",
       "      <td>1</td>\n",
       "      <td>0</td>\n",
       "      <td>0</td>\n",
       "      <td>1</td>\n",
       "    </tr>\n",
       "    <tr>\n",
       "      <th>149190</th>\n",
       "      <td>55629189</td>\n",
       "      <td>Caucasian</td>\n",
       "      <td>[10-20)</td>\n",
       "      <td>1</td>\n",
       "      <td>7</td>\n",
       "      <td>3</td>\n",
       "      <td>missing</td>\n",
       "      <td>59</td>\n",
       "      <td>0</td>\n",
       "      <td>18</td>\n",
       "      <td>...</td>\n",
       "      <td>False</td>\n",
       "      <td>False</td>\n",
       "      <td>False</td>\n",
       "      <td>False</td>\n",
       "      <td>False</td>\n",
       "      <td>False</td>\n",
       "      <td>1</td>\n",
       "      <td>0</td>\n",
       "      <td>1</td>\n",
       "      <td>0</td>\n",
       "    </tr>\n",
       "    <tr>\n",
       "      <th>64410</th>\n",
       "      <td>86047875</td>\n",
       "      <td>AfricanAmerican</td>\n",
       "      <td>[20-30)</td>\n",
       "      <td>1</td>\n",
       "      <td>7</td>\n",
       "      <td>2</td>\n",
       "      <td>missing</td>\n",
       "      <td>11</td>\n",
       "      <td>5</td>\n",
       "      <td>13</td>\n",
       "      <td>...</td>\n",
       "      <td>False</td>\n",
       "      <td>False</td>\n",
       "      <td>False</td>\n",
       "      <td>False</td>\n",
       "      <td>False</td>\n",
       "      <td>True</td>\n",
       "      <td>1</td>\n",
       "      <td>0</td>\n",
       "      <td>1</td>\n",
       "      <td>0</td>\n",
       "    </tr>\n",
       "    <tr>\n",
       "      <th>500364</th>\n",
       "      <td>82442376</td>\n",
       "      <td>Caucasian</td>\n",
       "      <td>[30-40)</td>\n",
       "      <td>1</td>\n",
       "      <td>7</td>\n",
       "      <td>2</td>\n",
       "      <td>missing</td>\n",
       "      <td>44</td>\n",
       "      <td>1</td>\n",
       "      <td>16</td>\n",
       "      <td>...</td>\n",
       "      <td>False</td>\n",
       "      <td>False</td>\n",
       "      <td>False</td>\n",
       "      <td>False</td>\n",
       "      <td>False</td>\n",
       "      <td>False</td>\n",
       "      <td>0</td>\n",
       "      <td>1</td>\n",
       "      <td>1</td>\n",
       "      <td>0</td>\n",
       "    </tr>\n",
       "    <tr>\n",
       "      <th>16680</th>\n",
       "      <td>42519267</td>\n",
       "      <td>Caucasian</td>\n",
       "      <td>[40-50)</td>\n",
       "      <td>1</td>\n",
       "      <td>7</td>\n",
       "      <td>1</td>\n",
       "      <td>missing</td>\n",
       "      <td>51</td>\n",
       "      <td>0</td>\n",
       "      <td>8</td>\n",
       "      <td>...</td>\n",
       "      <td>False</td>\n",
       "      <td>False</td>\n",
       "      <td>False</td>\n",
       "      <td>False</td>\n",
       "      <td>False</td>\n",
       "      <td>False</td>\n",
       "      <td>0</td>\n",
       "      <td>1</td>\n",
       "      <td>1</td>\n",
       "      <td>0</td>\n",
       "    </tr>\n",
       "  </tbody>\n",
       "</table>\n",
       "<p>5 rows × 48 columns</p>\n",
       "</div>"
      ],
      "text/plain": [
       "              patient_nbr             race      age  admission_type_id  \\\n",
       "encounter_id                                                             \n",
       "2278392           8222157        Caucasian   [0-10)                  6   \n",
       "149190           55629189        Caucasian  [10-20)                  1   \n",
       "64410            86047875  AfricanAmerican  [20-30)                  1   \n",
       "500364           82442376        Caucasian  [30-40)                  1   \n",
       "16680            42519267        Caucasian  [40-50)                  1   \n",
       "\n",
       "              admission_source_id  time_in_hospital         medical_specialty  \\\n",
       "encounter_id                                                                    \n",
       "2278392                         1                 1  Pediatrics-Endocrinology   \n",
       "149190                          7                 3                   missing   \n",
       "64410                           7                 2                   missing   \n",
       "500364                          7                 2                   missing   \n",
       "16680                           7                 1                   missing   \n",
       "\n",
       "              num_lab_procedures  num_procedures  num_medications  ...  \\\n",
       "encounter_id                                                       ...   \n",
       "2278392                       41               0                1  ...   \n",
       "149190                        59               0               18  ...   \n",
       "64410                         11               5               13  ...   \n",
       "500364                        44               1               16  ...   \n",
       "16680                         51               0                8  ...   \n",
       "\n",
       "              daig__13.0  daig__14.0  daig__16.0  daig__17.0 daig__18.0  \\\n",
       "encounter_id                                                              \n",
       "2278392            False       False       False       False      False   \n",
       "149190             False       False       False       False      False   \n",
       "64410              False       False       False       False      False   \n",
       "500364             False       False       False       False      False   \n",
       "16680              False       False       False       False      False   \n",
       "\n",
       "             daig__19.0 gender_Female gender_Male discharge_home  \\\n",
       "encounter_id                                                       \n",
       "2278392           False             1           0              0   \n",
       "149190            False             1           0              1   \n",
       "64410              True             1           0              1   \n",
       "500364            False             0           1              1   \n",
       "16680             False             0           1              1   \n",
       "\n",
       "             discharge_other  \n",
       "encounter_id                  \n",
       "2278392                    1  \n",
       "149190                     0  \n",
       "64410                      0  \n",
       "500364                     0  \n",
       "16680                      0  \n",
       "\n",
       "[5 rows x 48 columns]"
      ]
     },
     "execution_count": 506,
     "metadata": {},
     "output_type": "execute_result"
    }
   ],
   "source": [
    "df_with_diag.head()"
   ]
  },
  {
   "cell_type": "code",
   "execution_count": 502,
   "metadata": {},
   "outputs": [
    {
     "data": {
      "text/plain": [
       "array(['Female', 'Male', 'Unknown/Invalid'], dtype=object)"
      ]
     },
     "execution_count": 502,
     "metadata": {},
     "output_type": "execute_result"
    },
    {
     "data": {
      "text/plain": [
       "array(['Female', 'Male'], dtype=object)"
      ]
     },
     "execution_count": 502,
     "metadata": {},
     "output_type": "execute_result"
    },
    {
     "data": {
      "text/plain": [
       "array(['Female', 'Male'], dtype=object)"
      ]
     },
     "execution_count": 502,
     "metadata": {},
     "output_type": "execute_result"
    }
   ],
   "source": [
    "# remove inknown gender\n",
    "pd.unique(df_with_diag.gender)\n",
    "df_with_diag = df_with_diag[~ (df_with_diag.gender == 'Unknown/Invalid')]\n",
    "pd.unique(df_with_diag.gender)\n",
    "# change gender to categorical\n",
    "pd.unique(df_with_diag.gender)\n",
    "df_with_diag = pd.get_dummies(df_with_diag, columns=['gender'], prefix_sep='_')\n"
   ]
  },
  {
   "cell_type": "code",
   "execution_count": 505,
   "metadata": {},
   "outputs": [
    {
     "data": {
      "text/plain": [
       "(array(['home', 'other'], dtype=object), array([60232, 39108], dtype=int64))"
      ]
     },
     "execution_count": 505,
     "metadata": {},
     "output_type": "execute_result"
    }
   ],
   "source": [
    "# change the discharge to categorical, reduce to home/other\n",
    "np.unique(df_with_diag.discharge_disposition_id, return_counts=True)\n",
    "df_with_diag.loc[df_with_diag.discharge_disposition_id != 1, 'discharge_disposition_id'] = 'other'\n",
    "df_with_diag.loc[df_with_diag.discharge_disposition_id == 1, 'discharge_disposition_id'] = 'home'\n",
    "df_with_diag.rename(columns={'discharge_disposition_id': 'discharge'}, inplace=True)\n",
    "np.unique(df_with_diag.discharge, return_counts=True)\n",
    "df_with_diag = pd.get_dummies(df_with_diag, columns=['discharge'], prefix_sep='_')"
   ]
  },
  {
   "cell_type": "code",
   "execution_count": 442,
   "metadata": {},
   "outputs": [
    {
     "data": {
      "text/plain": [
       "(array([1, 2, 3, 4, 5, 6, 7, 8], dtype=int64),\n",
       " array([52369, 18132, 18667,    10,  4617,  5207,    18,   320],\n",
       "       dtype=int64))"
      ]
     },
     "execution_count": 442,
     "metadata": {},
     "output_type": "execute_result"
    },
    {
     "data": {
      "text/plain": [
       "(array(['clinic_referral', 'high_prayority', 'other'], dtype=object),\n",
       " array([18695, 70501, 10144], dtype=int64))"
      ]
     },
     "execution_count": 442,
     "metadata": {},
     "output_type": "execute_result"
    }
   ],
   "source": [
    "# change the admission to categorical, reduce to other, high_prayority, clinic_referral\n",
    "# admission_type_id\tdescription\n",
    "# 1\tEmergency\n",
    "# 2\tUrgent\n",
    "# 3\tElective\n",
    "# 4\tNewborn\n",
    "# 5\tNot Available\n",
    "# 6\tNULL\n",
    "# 7\tTrauma Center\n",
    "# 8\tNot Mapped\n",
    "# we are grouping togeter: 8,6,5 toggeter as 'other', 1,2 as high_prayority and else as clinic referral\n",
    "\n",
    "np.unique(df_with_diag.admission_type_id, return_counts=True)\n",
    "df_with_diag.loc[df_with_diag.admission_type_id.isin([5,6,8]), 'admission_type_id'] = 'other'\n",
    "df_with_diag.loc[df_with_diag.admission_type_id.isin([1,2]), 'admission_type_id'] = 'high_prayority'\n",
    "df_with_diag.loc[df_with_diag.admission_type_id.isin([3,4,7]), 'admission_type_id'] = 'clinic_referral'\n",
    "df_with_diag.rename(columns={'admission_type_id': 'admission'}, inplace=True)\n",
    "np.unique(df_with_diag.admission, return_counts=True)\n",
    "df_with_diag = pd.get_dummies(df_with_diag, columns=['admission'], prefix_sep='_')\n",
    "\n",
    "\n"
   ]
  },
  {
   "cell_type": "code",
   "execution_count": 443,
   "metadata": {},
   "outputs": [
    {
     "data": {
      "text/plain": [
       "Index(['patient_nbr', 'race', 'age', 'admission_source_id', 'time_in_hospital',\n",
       "       'medical_specialty', 'num_lab_procedures', 'num_procedures',\n",
       "       'num_medications', 'number_outpatient', 'number_emergency',\n",
       "       'number_inpatient', 'number_diagnoses', 'max_glu_serum', 'A1Cresult',\n",
       "       'metformin', 'glimepiride', 'glipizide', 'glyburide', 'pioglitazone',\n",
       "       'rosiglitazone', 'insulin', 'change', 'diabetesMed', 'readmitted',\n",
       "       'daig__1.0', 'daig__2.0', 'daig__3.0', 'daig__4.0', 'daig__5.0',\n",
       "       'daig__6.0', 'daig__7.0', 'daig__8.0', 'daig__9.0', 'daig__10.0',\n",
       "       'daig__11.0', 'daig__12.0', 'daig__13.0', 'daig__14.0', 'daig__16.0',\n",
       "       'daig__17.0', 'daig__18.0', 'daig__19.0', 'gender_Female',\n",
       "       'gender_Male', 'discharge_home', 'discharge_other',\n",
       "       'admission_clinic_referral', 'admission_high_prayority',\n",
       "       'admission_other'],\n",
       "      dtype='object')"
      ]
     },
     "execution_count": 443,
     "metadata": {},
     "output_type": "execute_result"
    }
   ],
   "source": [
    "df_with_diag.keys()"
   ]
  },
  {
   "cell_type": "code",
   "execution_count": 444,
   "metadata": {},
   "outputs": [
    {
     "data": {
      "text/plain": [
       "(array(['AfricanAmerican', 'Asian', 'Caucasian', 'Hispanic', 'Other',\n",
       "        'nan'], dtype=object),\n",
       " array([18772,   628, 74220,  2017,  1471,  2232], dtype=int64))"
      ]
     },
     "execution_count": 444,
     "metadata": {},
     "output_type": "execute_result"
    },
    {
     "data": {
      "text/plain": [
       "(array(['AfricanAmerican', 'Caucasian', 'missing', 'other'], dtype=object),\n",
       " array([18772, 74220,  2232,  4116], dtype=int64))"
      ]
     },
     "execution_count": 444,
     "metadata": {},
     "output_type": "execute_result"
    }
   ],
   "source": [
    "# we change race to categorical dou low amout of asian and hispanic are unite with other, nan values are changed to missing\n",
    "np.unique(df_with_diag.race.astype(str), return_counts=True)\n",
    "df_with_diag.loc[df_with_diag.race.isna(), 'race'] ='missing'\n",
    "df_with_diag.loc[df_with_diag.race.isin(['Asian', 'Hispanic','Other']), 'race'] ='other'\n",
    "np.unique(df_with_diag.race.astype(str), return_counts=True)\n",
    "df_with_diag = pd.get_dummies(df_with_diag, columns=['race'], prefix_sep='_')\n"
   ]
  },
  {
   "cell_type": "code",
   "execution_count": 446,
   "metadata": {},
   "outputs": [
    {
     "ename": "AttributeError",
     "evalue": "'DataFrame' object has no attribute 'age'",
     "output_type": "error",
     "traceback": [
      "\u001b[1;31m---------------------------------------------------------------------------\u001b[0m",
      "\u001b[1;31mAttributeError\u001b[0m                            Traceback (most recent call last)",
      "Cell \u001b[1;32mIn[446], line 2\u001b[0m\n\u001b[0;32m      1\u001b[0m \u001b[38;5;66;03m# age groups are divided to tree: yung- <30, midlife 30<60 and old 60+ and turn to categorical\u001b[39;00m\n\u001b[1;32m----> 2\u001b[0m np\u001b[38;5;241m.\u001b[39munique(\u001b[43mdf_with_diag\u001b[49m\u001b[38;5;241;43m.\u001b[39;49m\u001b[43mage\u001b[49m\u001b[38;5;241m.\u001b[39mastype(\u001b[38;5;28mstr\u001b[39m), return_counts\u001b[38;5;241m=\u001b[39m\u001b[38;5;28;01mTrue\u001b[39;00m)\n\u001b[0;32m      3\u001b[0m df_with_diag\u001b[38;5;241m.\u001b[39mloc[df_with_diag\u001b[38;5;241m.\u001b[39mage\u001b[38;5;241m.\u001b[39misin([\u001b[38;5;124m'\u001b[39m\u001b[38;5;124m[0-10)\u001b[39m\u001b[38;5;124m'\u001b[39m, \u001b[38;5;124m'\u001b[39m\u001b[38;5;124m[10-20)\u001b[39m\u001b[38;5;124m'\u001b[39m, \u001b[38;5;124m'\u001b[39m\u001b[38;5;124m[20-30)\u001b[39m\u001b[38;5;124m'\u001b[39m]), \u001b[38;5;124m'\u001b[39m\u001b[38;5;124mage\u001b[39m\u001b[38;5;124m'\u001b[39m] \u001b[38;5;241m=\u001b[39m\u001b[38;5;124m'\u001b[39m\u001b[38;5;124m<30\u001b[39m\u001b[38;5;124m'\u001b[39m\n\u001b[0;32m      4\u001b[0m df_with_diag\u001b[38;5;241m.\u001b[39mloc[df_with_diag\u001b[38;5;241m.\u001b[39mage\u001b[38;5;241m.\u001b[39misin([\u001b[38;5;124m'\u001b[39m\u001b[38;5;124m[30-40)\u001b[39m\u001b[38;5;124m'\u001b[39m, \u001b[38;5;124m'\u001b[39m\u001b[38;5;124m[40-50)\u001b[39m\u001b[38;5;124m'\u001b[39m, \u001b[38;5;124m'\u001b[39m\u001b[38;5;124m[50-60)\u001b[39m\u001b[38;5;124m'\u001b[39m]), \u001b[38;5;124m'\u001b[39m\u001b[38;5;124mage\u001b[39m\u001b[38;5;124m'\u001b[39m] \u001b[38;5;241m=\u001b[39m\u001b[38;5;124m'\u001b[39m\u001b[38;5;124m30<60\u001b[39m\u001b[38;5;124m'\u001b[39m\n",
      "File \u001b[1;32m~\\anaconda3\\envs\\cellpose\\lib\\site-packages\\pandas\\core\\generic.py:5902\u001b[0m, in \u001b[0;36mNDFrame.__getattr__\u001b[1;34m(self, name)\u001b[0m\n\u001b[0;32m   5895\u001b[0m \u001b[38;5;28;01mif\u001b[39;00m (\n\u001b[0;32m   5896\u001b[0m     name \u001b[38;5;129;01mnot\u001b[39;00m \u001b[38;5;129;01min\u001b[39;00m \u001b[38;5;28mself\u001b[39m\u001b[38;5;241m.\u001b[39m_internal_names_set\n\u001b[0;32m   5897\u001b[0m     \u001b[38;5;129;01mand\u001b[39;00m name \u001b[38;5;129;01mnot\u001b[39;00m \u001b[38;5;129;01min\u001b[39;00m \u001b[38;5;28mself\u001b[39m\u001b[38;5;241m.\u001b[39m_metadata\n\u001b[0;32m   5898\u001b[0m     \u001b[38;5;129;01mand\u001b[39;00m name \u001b[38;5;129;01mnot\u001b[39;00m \u001b[38;5;129;01min\u001b[39;00m \u001b[38;5;28mself\u001b[39m\u001b[38;5;241m.\u001b[39m_accessors\n\u001b[0;32m   5899\u001b[0m     \u001b[38;5;129;01mand\u001b[39;00m \u001b[38;5;28mself\u001b[39m\u001b[38;5;241m.\u001b[39m_info_axis\u001b[38;5;241m.\u001b[39m_can_hold_identifiers_and_holds_name(name)\n\u001b[0;32m   5900\u001b[0m ):\n\u001b[0;32m   5901\u001b[0m     \u001b[38;5;28;01mreturn\u001b[39;00m \u001b[38;5;28mself\u001b[39m[name]\n\u001b[1;32m-> 5902\u001b[0m \u001b[38;5;28;01mreturn\u001b[39;00m \u001b[38;5;28;43mobject\u001b[39;49m\u001b[38;5;241;43m.\u001b[39;49m\u001b[38;5;21;43m__getattribute__\u001b[39;49m\u001b[43m(\u001b[49m\u001b[38;5;28;43mself\u001b[39;49m\u001b[43m,\u001b[49m\u001b[43m \u001b[49m\u001b[43mname\u001b[49m\u001b[43m)\u001b[49m\n",
      "\u001b[1;31mAttributeError\u001b[0m: 'DataFrame' object has no attribute 'age'"
     ]
    }
   ],
   "source": [
    "# age groups are divided to tree: yung- <30, midlife 30<60 and old 60+ and turn to categorical\n",
    "np.unique(df_with_diag.age.astype(str), return_counts=True)\n",
    "df_with_diag.loc[df_with_diag.age.isin(['[0-10)', '[10-20)', '[20-30)']), 'age'] ='<30'\n",
    "df_with_diag.loc[df_with_diag.age.isin(['[30-40)', '[40-50)', '[50-60)']), 'age'] ='30<60'\n",
    "df_with_diag.loc[df_with_diag.age.isin(['[60-70)', '[70-80)', '[80-90)', '[90-100)']), 'age'] ='>60'\n",
    "np.unique(df_with_diag.age.astype(str), return_counts=True)\n",
    "df_with_diag = pd.get_dummies(df_with_diag, columns=['age'], prefix_sep='_')\n",
    "\n"
   ]
  },
  {
   "cell_type": "code",
   "execution_count": 447,
   "metadata": {},
   "outputs": [
    {
     "data": {
      "text/plain": [
       "(array([ 1,  2,  3,  4,  5,  6,  7,  8,  9, 10, 11, 12, 13, 14],\n",
       "       dtype=int64),\n",
       " array([13822, 16891, 17432, 13684,  9749,  7355,  5696,  4270,  2879,\n",
       "         2262,  1770,  1383,  1152,   995], dtype=int64))"
      ]
     },
     "execution_count": 447,
     "metadata": {},
     "output_type": "execute_result"
    }
   ],
   "source": [
    "np.unique(df_with_diag.time_in_hospital, return_counts=True)"
   ]
  },
  {
   "cell_type": "code",
   "execution_count": 448,
   "metadata": {},
   "outputs": [
    {
     "name": "stdout",
     "output_type": "stream",
     "text": [
      "<class 'pandas.core.frame.DataFrame'>\n",
      "Int64Index: 99340 entries, 2278392 to 443867222\n",
      "Data columns (total 55 columns):\n",
      " #   Column                     Non-Null Count  Dtype \n",
      "---  ------                     --------------  ----- \n",
      " 0   patient_nbr                99340 non-null  int64 \n",
      " 1   admission_source_id        99340 non-null  int64 \n",
      " 2   time_in_hospital           99340 non-null  int64 \n",
      " 3   medical_specialty          99340 non-null  object\n",
      " 4   num_lab_procedures         99340 non-null  int64 \n",
      " 5   num_procedures             99340 non-null  int64 \n",
      " 6   num_medications            99340 non-null  int64 \n",
      " 7   number_outpatient          99340 non-null  int64 \n",
      " 8   number_emergency           99340 non-null  int64 \n",
      " 9   number_inpatient           99340 non-null  int64 \n",
      " 10  number_diagnoses           99340 non-null  int64 \n",
      " 11  max_glu_serum              99340 non-null  object\n",
      " 12  A1Cresult                  99340 non-null  object\n",
      " 13  metformin                  99340 non-null  object\n",
      " 14  glimepiride                99340 non-null  object\n",
      " 15  glipizide                  99340 non-null  object\n",
      " 16  glyburide                  99340 non-null  object\n",
      " 17  pioglitazone               99340 non-null  object\n",
      " 18  rosiglitazone              99340 non-null  object\n",
      " 19  insulin                    99340 non-null  object\n",
      " 20  change                     99340 non-null  object\n",
      " 21  diabetesMed                99340 non-null  object\n",
      " 22  readmitted                 99340 non-null  object\n",
      " 23  daig__1.0                  99340 non-null  bool  \n",
      " 24  daig__2.0                  99340 non-null  bool  \n",
      " 25  daig__3.0                  99340 non-null  bool  \n",
      " 26  daig__4.0                  99340 non-null  bool  \n",
      " 27  daig__5.0                  99340 non-null  bool  \n",
      " 28  daig__6.0                  99340 non-null  bool  \n",
      " 29  daig__7.0                  99340 non-null  bool  \n",
      " 30  daig__8.0                  99340 non-null  bool  \n",
      " 31  daig__9.0                  99340 non-null  bool  \n",
      " 32  daig__10.0                 99340 non-null  bool  \n",
      " 33  daig__11.0                 99340 non-null  bool  \n",
      " 34  daig__12.0                 99340 non-null  bool  \n",
      " 35  daig__13.0                 99340 non-null  bool  \n",
      " 36  daig__14.0                 99340 non-null  bool  \n",
      " 37  daig__16.0                 99340 non-null  bool  \n",
      " 38  daig__17.0                 99340 non-null  bool  \n",
      " 39  daig__18.0                 99340 non-null  bool  \n",
      " 40  daig__19.0                 99340 non-null  bool  \n",
      " 41  gender_Female              99340 non-null  uint8 \n",
      " 42  gender_Male                99340 non-null  uint8 \n",
      " 43  discharge_home             99340 non-null  uint8 \n",
      " 44  discharge_other            99340 non-null  uint8 \n",
      " 45  admission_clinic_referral  99340 non-null  uint8 \n",
      " 46  admission_high_prayority   99340 non-null  uint8 \n",
      " 47  admission_other            99340 non-null  uint8 \n",
      " 48  race_AfricanAmerican       99340 non-null  uint8 \n",
      " 49  race_Caucasian             99340 non-null  uint8 \n",
      " 50  race_missing               99340 non-null  uint8 \n",
      " 51  race_other                 99340 non-null  uint8 \n",
      " 52  age_30<60                  99340 non-null  uint8 \n",
      " 53  age_<30                    99340 non-null  uint8 \n",
      " 54  age_>60                    99340 non-null  uint8 \n",
      "dtypes: bool(18), int64(10), object(13), uint8(14)\n",
      "memory usage: 21.2+ MB\n"
     ]
    }
   ],
   "source": [
    "df_with_diag.info()"
   ]
  },
  {
   "cell_type": "code",
   "execution_count": 457,
   "metadata": {},
   "outputs": [
    {
     "data": {
      "text/plain": [
       "array(['missing', 'InternalMedicine', 'Emergency/Trauma',\n",
       "       'Family/GeneralPractice', 'Cardiology', 'Norm', 'Surgery-General'],\n",
       "      dtype=object)"
      ]
     },
     "execution_count": 457,
     "metadata": {},
     "output_type": "execute_result"
    }
   ],
   "source": [
    "sorted_unique[:7]"
   ]
  },
  {
   "cell_type": "code",
   "execution_count": 458,
   "metadata": {},
   "outputs": [
    {
     "data": {
      "text/plain": [
       "(array(['missing', 'InternalMedicine', 'Emergency/Trauma',\n",
       "        'Family/GeneralPractice', 'Cardiology', 'Norm', 'Surgery-General',\n",
       "        'Nephrology', 'Orthopedics', 'Orthopedics-Reconstructive',\n",
       "        'Radiologist', 'Pulmonology', 'Psychiatry', 'Urology',\n",
       "        'ObstetricsandGynecology', 'Surgery-Cardiovascular/Thoracic',\n",
       "        'Gastroenterology', 'Surgery-Vascular', 'Surgery-Neuro',\n",
       "        'PhysicalMedicineandRehabilitation', 'Oncology', 'Pediatrics',\n",
       "        'Neurology', 'Hematology/Oncology', 'Pediatrics-Endocrinology',\n",
       "        'Otolaryngology', 'Endocrinology', 'Surgery-Thoracic', 'Podiatry',\n",
       "        'Psychology', 'Surgery-Cardiovascular', 'Pediatrics-CriticalCare',\n",
       "        'Hematology', 'Gynecology', 'Hospitalist', 'Radiology', 'Surgeon',\n",
       "        'Surgery-Plastic', 'Osteopath', 'Ophthalmology',\n",
       "        'InfectiousDiseases', 'SurgicalSpecialty',\n",
       "        'Obsterics&Gynecology-GynecologicOnco', 'Obstetrics',\n",
       "        'Pediatrics-Pulmonology', 'Anesthesiology-Pediatric',\n",
       "        'Rheumatology', 'Pathology', 'OutreachServices', 'Anesthesiology',\n",
       "        'PhysicianNotFound', 'Surgery-Colon&Rectal',\n",
       "        'Surgery-Maxillofacial', 'Pediatrics-Neurology',\n",
       "        'Surgery-Pediatric', 'Endocrinology-Metabolism',\n",
       "        'AllergyandImmunology', 'Psychiatry-Child/Adolescent',\n",
       "        'Cardiology-Pediatric', 'DCPTEAM', 'Dentistry',\n",
       "        'Pediatrics-Hematology-Oncology', 'Pediatrics-EmergencyMedicine',\n",
       "        'Pediatrics-AllergyandImmunology', 'Resident', 'SportsMedicine',\n",
       "        'Perinatology', 'Surgery-PlasticwithinHeadandNeck', 'Dermatology',\n",
       "        'Pediatrics-InfectiousDiseases', 'Proctology',\n",
       "        'Psychiatry-Addictive', 'Neurophysiology', 'Speech'], dtype=object),\n",
       " array([45903, 13516,  7014,  6934,  5090,  4922,  2954,  1486,  1355,\n",
       "         1197,  1097,   824,   784,   669,   650,   621,   513,   512,\n",
       "          454,   369,   311,   238,   195,   183,   155,   120,   113,\n",
       "          103,    96,    95,    95,    84,    73,    57,    52,    50,\n",
       "           45,    40,    37,    37,    33,    29,    25,    19,    19,\n",
       "           18,    16,    15,    12,    12,    10,     9,     9,     8,\n",
       "            8,     7,     7,     6,     5,     5,     4,     4,     3,\n",
       "            3,     2,     1,     1,     1,     1,     1,     1,     1,\n",
       "            1,     1], dtype=int64))"
      ]
     },
     "execution_count": 458,
     "metadata": {},
     "output_type": "execute_result"
    },
    {
     "data": {
      "text/plain": [
       "(array(['Cardiology', 'Emergency/Trauma', 'Family/GeneralPractice',\n",
       "        'InternalMedicine', 'Norm', 'Surgery-General', 'missing', 'other'],\n",
       "       dtype=object),\n",
       " array([ 5090,  7014,  6934, 13516,  4922,  2954, 45903, 13007],\n",
       "       dtype=int64))"
      ]
     },
     "execution_count": 458,
     "metadata": {},
     "output_type": "execute_result"
    }
   ],
   "source": [
    "# catagories medical specialety\n",
    "unique, counts = np.unique(df.medical_specialty.astype(str), return_counts=True)\n",
    "sorted_indices = np.argsort(counts)[::-1]  # Reverse order to get descending sort indices\n",
    "sorted_unique = unique[sorted_indices]\n",
    "sorted_counts = counts[sorted_indices]\n",
    "sorted_unique, sorted_counts\n",
    "# we will take all 6 top type of specialeties and missing and we are creating new type : 'other'\n",
    "\n",
    "df_with_diag.loc[~(df_with_diag.medical_specialty.isin(sorted_unique[:7])), 'medical_specialty'] ='other'\n",
    "np.unique(df.medical_specialty.astype(str), return_counts=True)\n",
    "df_with_diag = pd.get_dummies(df_with_diag, columns=['medical_specialty'], prefix_sep='_')"
   ]
  },
  {
   "cell_type": "markdown",
   "metadata": {},
   "source": [
    "# Feature Engineering\n",
    "\n",
    "From going over the data we found multiple data editing that can be beneficial:\n",
    "1. 'encounter_id' and 'patient_nbr' are identifiers and not variables\n",
    "2.  'admission_type_id', 'discharge_disposition_id', and 'admission_source_id': are numerical, They should be considered categorical.\n",
    "3.  'examide' and 'citoglipton' have only one unique value thus, not contributing ('No' and 'No') and removed\n",
    "4.  'acetohexamide',  'tolbutamide', 'troglitazone', 'glimepiride-pioglitazone', 'metformin-rosiglitazone', 'metformin-pioglitazone' in all this columns we find two unique values, but one value is in 99.99 percent of the data, we thus remove this columns \n",
    "5. following 4 we dicided to remove all coloumns that 95 percent or more is jest one value : ['examide', 'citoglipton', 'acetohexamide', 'tolbutamide','troglitazone', 'glimepiride-pioglitazone','metformin-rosiglitazone', 'metformin-pioglitazone','glipizide-metformin', 'tolazamide', 'glyburide-metformin','acarbose', 'miglitol', 'chlorpropamide', 'nateglinide',\n",
    "'repaglinide']\n",
    "6.there are 913 diagnostics, to reduse the dimentinalety we unite codeons based on the  major classification of it, we mannaged to reduse the diag to 19 and we changed it to be catagorical\n",
    "7. gender to categorical: male, female, we removed unknown only 3\n",
    "8. We changed the discharge to home/other and changed to categorical\n",
    "9. addmition_id is changed to categorical, with 3 catagories 'clinic referral', 'high_prayority and other\n",
    "10. race is cahnged to categorical,  nan values are turned to missing and we unite low repits values (asian and hispanic) with other\n",
    "11. 6.  \n"
   ]
  },
  {
   "cell_type": "markdown",
   "metadata": {},
   "source": [
    "If you have diabetes, an ideal HbA1c level is 48mmol/mol (6.5%) or below. If you're at risk of developing type 2 diabetes,\n",
    " your target HbA1c level should be below 42mmol/mol (6%)\n",
    "\n",
    "\n",
    "We considered four groups of encounters: \n",
    "\n",
    "(1) no HbA1c test performed.\n",
    "\n",
    "(2) HbA1c performed and in normal range.\n",
    "\n",
    "(3) HbA1c performed and the result is greater than 7% with no change in diabetic medications.\n",
    "\n",
    "(4) HbA1c performed, result is greater than 7%, and diabetic medication was changed.\n"
   ]
  },
  {
   "cell_type": "code",
   "execution_count": 459,
   "metadata": {},
   "outputs": [
    {
     "ename": "AttributeError",
     "evalue": "'DataFrame' object has no attribute 'A1Cresult'",
     "output_type": "error",
     "traceback": [
      "\u001b[1;31m---------------------------------------------------------------------------\u001b[0m",
      "\u001b[1;31mAttributeError\u001b[0m                            Traceback (most recent call last)",
      "Cell \u001b[1;32mIn[459], line 1\u001b[0m\n\u001b[1;32m----> 1\u001b[0m \u001b[43mdf\u001b[49m\u001b[38;5;241;43m.\u001b[39;49m\u001b[43mA1Cresult\u001b[49m\u001b[38;5;241m.\u001b[39mhist()\n",
      "File \u001b[1;32m~\\anaconda3\\envs\\cellpose\\lib\\site-packages\\pandas\\core\\generic.py:5902\u001b[0m, in \u001b[0;36mNDFrame.__getattr__\u001b[1;34m(self, name)\u001b[0m\n\u001b[0;32m   5895\u001b[0m \u001b[38;5;28;01mif\u001b[39;00m (\n\u001b[0;32m   5896\u001b[0m     name \u001b[38;5;129;01mnot\u001b[39;00m \u001b[38;5;129;01min\u001b[39;00m \u001b[38;5;28mself\u001b[39m\u001b[38;5;241m.\u001b[39m_internal_names_set\n\u001b[0;32m   5897\u001b[0m     \u001b[38;5;129;01mand\u001b[39;00m name \u001b[38;5;129;01mnot\u001b[39;00m \u001b[38;5;129;01min\u001b[39;00m \u001b[38;5;28mself\u001b[39m\u001b[38;5;241m.\u001b[39m_metadata\n\u001b[0;32m   5898\u001b[0m     \u001b[38;5;129;01mand\u001b[39;00m name \u001b[38;5;129;01mnot\u001b[39;00m \u001b[38;5;129;01min\u001b[39;00m \u001b[38;5;28mself\u001b[39m\u001b[38;5;241m.\u001b[39m_accessors\n\u001b[0;32m   5899\u001b[0m     \u001b[38;5;129;01mand\u001b[39;00m \u001b[38;5;28mself\u001b[39m\u001b[38;5;241m.\u001b[39m_info_axis\u001b[38;5;241m.\u001b[39m_can_hold_identifiers_and_holds_name(name)\n\u001b[0;32m   5900\u001b[0m ):\n\u001b[0;32m   5901\u001b[0m     \u001b[38;5;28;01mreturn\u001b[39;00m \u001b[38;5;28mself\u001b[39m[name]\n\u001b[1;32m-> 5902\u001b[0m \u001b[38;5;28;01mreturn\u001b[39;00m \u001b[38;5;28;43mobject\u001b[39;49m\u001b[38;5;241;43m.\u001b[39;49m\u001b[38;5;21;43m__getattribute__\u001b[39;49m\u001b[43m(\u001b[49m\u001b[38;5;28;43mself\u001b[39;49m\u001b[43m,\u001b[49m\u001b[43m \u001b[49m\u001b[43mname\u001b[49m\u001b[43m)\u001b[49m\n",
      "\u001b[1;31mAttributeError\u001b[0m: 'DataFrame' object has no attribute 'A1Cresult'"
     ]
    }
   ],
   "source": [
    "df.A1Cresult.hist()"
   ]
  },
  {
   "cell_type": "code",
   "execution_count": 460,
   "metadata": {},
   "outputs": [
    {
     "ename": "AttributeError",
     "evalue": "'DataFrame' object has no attribute 'A1Cresult'",
     "output_type": "error",
     "traceback": [
      "\u001b[1;31m---------------------------------------------------------------------------\u001b[0m",
      "\u001b[1;31mAttributeError\u001b[0m                            Traceback (most recent call last)",
      "Cell \u001b[1;32mIn[460], line 9\u001b[0m\n\u001b[0;32m      7\u001b[0m     df\u001b[38;5;241m.\u001b[39mdrop(columns\u001b[38;5;241m=\u001b[39m[\u001b[38;5;124m'\u001b[39m\u001b[38;5;124mA1Cresult\u001b[39m\u001b[38;5;124m'\u001b[39m, \u001b[38;5;124m'\u001b[39m\u001b[38;5;124mchange\u001b[39m\u001b[38;5;124m'\u001b[39m], inplace\u001b[38;5;241m=\u001b[39m\u001b[38;5;28;01mTrue\u001b[39;00m)\n\u001b[0;32m      8\u001b[0m     \u001b[38;5;28;01mreturn\u001b[39;00m df\n\u001b[1;32m----> 9\u001b[0m df \u001b[38;5;241m=\u001b[39m \u001b[43mset_encounters\u001b[49m\u001b[43m(\u001b[49m\u001b[43mdf_with_diag\u001b[49m\u001b[43m)\u001b[49m\n\u001b[0;32m     10\u001b[0m np\u001b[38;5;241m.\u001b[39munique(df\u001b[38;5;241m.\u001b[39mencounters, return_counts\u001b[38;5;241m=\u001b[39m\u001b[38;5;28;01mTrue\u001b[39;00m)\n",
      "Cell \u001b[1;32mIn[460], line 4\u001b[0m, in \u001b[0;36mset_encounters\u001b[1;34m(df)\u001b[0m\n\u001b[0;32m      2\u001b[0m \u001b[38;5;124;03m'''set encounters for each patient based on  A1C and change in medications'''\u001b[39;00m\n\u001b[0;32m      3\u001b[0m df[\u001b[38;5;124m'\u001b[39m\u001b[38;5;124mencounters\u001b[39m\u001b[38;5;124m'\u001b[39m] \u001b[38;5;241m=\u001b[39m \u001b[38;5;124m'\u001b[39m\u001b[38;5;124mNone\u001b[39m\u001b[38;5;124m'\u001b[39m\n\u001b[1;32m----> 4\u001b[0m df\u001b[38;5;241m.\u001b[39mloc[(\u001b[43mdf\u001b[49m\u001b[38;5;241;43m.\u001b[39;49m\u001b[43mA1Cresult\u001b[49m \u001b[38;5;241m==\u001b[39m \u001b[38;5;124m'\u001b[39m\u001b[38;5;124m>7\u001b[39m\u001b[38;5;124m'\u001b[39m) \u001b[38;5;241m|\u001b[39m (df\u001b[38;5;241m.\u001b[39mA1Cresult \u001b[38;5;241m==\u001b[39m \u001b[38;5;124m'\u001b[39m\u001b[38;5;124m>8\u001b[39m\u001b[38;5;124m'\u001b[39m), \u001b[38;5;124m'\u001b[39m\u001b[38;5;124mencounters\u001b[39m\u001b[38;5;124m'\u001b[39m] \u001b[38;5;241m=\u001b[39m \u001b[38;5;124m'\u001b[39m\u001b[38;5;124m7_No\u001b[39m\u001b[38;5;124m'\u001b[39m\n\u001b[0;32m      5\u001b[0m df\u001b[38;5;241m.\u001b[39mloc[((df\u001b[38;5;241m.\u001b[39mA1Cresult \u001b[38;5;241m==\u001b[39m \u001b[38;5;124m'\u001b[39m\u001b[38;5;124m>7\u001b[39m\u001b[38;5;124m'\u001b[39m) \u001b[38;5;241m|\u001b[39m (df\u001b[38;5;241m.\u001b[39mA1Cresult \u001b[38;5;241m==\u001b[39m \u001b[38;5;124m'\u001b[39m\u001b[38;5;124m>8\u001b[39m\u001b[38;5;124m'\u001b[39m)) \u001b[38;5;241m&\u001b[39m (df\u001b[38;5;241m.\u001b[39mchange \u001b[38;5;241m==\u001b[39m \u001b[38;5;124m'\u001b[39m\u001b[38;5;124mCh\u001b[39m\u001b[38;5;124m'\u001b[39m), \u001b[38;5;124m'\u001b[39m\u001b[38;5;124mencounters\u001b[39m\u001b[38;5;124m'\u001b[39m] \u001b[38;5;241m=\u001b[39m \u001b[38;5;124m'\u001b[39m\u001b[38;5;124m7_Ch\u001b[39m\u001b[38;5;124m'\u001b[39m\n\u001b[0;32m      6\u001b[0m df\u001b[38;5;241m.\u001b[39mloc[df\u001b[38;5;241m.\u001b[39mA1Cresult \u001b[38;5;241m==\u001b[39m \u001b[38;5;124m'\u001b[39m\u001b[38;5;124mNorm\u001b[39m\u001b[38;5;124m'\u001b[39m] \u001b[38;5;241m=\u001b[39m \u001b[38;5;124m'\u001b[39m\u001b[38;5;124mNorm\u001b[39m\u001b[38;5;124m'\u001b[39m\n",
      "File \u001b[1;32m~\\anaconda3\\envs\\cellpose\\lib\\site-packages\\pandas\\core\\generic.py:5902\u001b[0m, in \u001b[0;36mNDFrame.__getattr__\u001b[1;34m(self, name)\u001b[0m\n\u001b[0;32m   5895\u001b[0m \u001b[38;5;28;01mif\u001b[39;00m (\n\u001b[0;32m   5896\u001b[0m     name \u001b[38;5;129;01mnot\u001b[39;00m \u001b[38;5;129;01min\u001b[39;00m \u001b[38;5;28mself\u001b[39m\u001b[38;5;241m.\u001b[39m_internal_names_set\n\u001b[0;32m   5897\u001b[0m     \u001b[38;5;129;01mand\u001b[39;00m name \u001b[38;5;129;01mnot\u001b[39;00m \u001b[38;5;129;01min\u001b[39;00m \u001b[38;5;28mself\u001b[39m\u001b[38;5;241m.\u001b[39m_metadata\n\u001b[0;32m   5898\u001b[0m     \u001b[38;5;129;01mand\u001b[39;00m name \u001b[38;5;129;01mnot\u001b[39;00m \u001b[38;5;129;01min\u001b[39;00m \u001b[38;5;28mself\u001b[39m\u001b[38;5;241m.\u001b[39m_accessors\n\u001b[0;32m   5899\u001b[0m     \u001b[38;5;129;01mand\u001b[39;00m \u001b[38;5;28mself\u001b[39m\u001b[38;5;241m.\u001b[39m_info_axis\u001b[38;5;241m.\u001b[39m_can_hold_identifiers_and_holds_name(name)\n\u001b[0;32m   5900\u001b[0m ):\n\u001b[0;32m   5901\u001b[0m     \u001b[38;5;28;01mreturn\u001b[39;00m \u001b[38;5;28mself\u001b[39m[name]\n\u001b[1;32m-> 5902\u001b[0m \u001b[38;5;28;01mreturn\u001b[39;00m \u001b[38;5;28;43mobject\u001b[39;49m\u001b[38;5;241;43m.\u001b[39;49m\u001b[38;5;21;43m__getattribute__\u001b[39;49m\u001b[43m(\u001b[49m\u001b[38;5;28;43mself\u001b[39;49m\u001b[43m,\u001b[49m\u001b[43m \u001b[49m\u001b[43mname\u001b[49m\u001b[43m)\u001b[49m\n",
      "\u001b[1;31mAttributeError\u001b[0m: 'DataFrame' object has no attribute 'A1Cresult'"
     ]
    }
   ],
   "source": [
    "def set_encounters(df):\n",
    "    '''set encounters for each patient based on  A1C and change in medications'''\n",
    "    df['encounters'] = 'None'\n",
    "    df.loc[(df.A1Cresult == '>7') | (df.A1Cresult == '>8'), 'encounters'] = '7_No'\n",
    "    df.loc[((df.A1Cresult == '>7') | (df.A1Cresult == '>8')) & (df.change == 'Ch'), 'encounters'] = '7_Ch'\n",
    "    df.loc[df.A1Cresult == 'Norm'] = 'Norm'\n",
    "    df.drop(columns=['A1Cresult', 'change'], inplace=True)\n",
    "    return df\n",
    "df = set_encounters(df_with_diag)\n",
    "np.unique(df.encounters, return_counts=True)"
   ]
  },
  {
   "cell_type": "code",
   "execution_count": 451,
   "metadata": {},
   "outputs": [
    {
     "data": {
      "text/plain": [
       "<Axes: xlabel='encounters', ylabel='Percent'>"
      ]
     },
     "execution_count": 451,
     "metadata": {},
     "output_type": "execute_result"
    },
    {
     "data": {
      "image/png": "[encoded data removed]",
      "text/plain": [
       "<Figure size 640x480 with 1 Axes>"
      ]
     },
     "metadata": {},
     "output_type": "display_data"
    }
   ],
   "source": [
    "sns.histplot(data=df, x='encounters', stat='percent')"
   ]
  },
  {
   "cell_type": "code",
   "execution_count": 452,
   "metadata": {},
   "outputs": [
    {
     "data": {
      "text/plain": [
       "array(['Pediatrics-Endocrinology', 'missing', 'InternalMedicine',\n",
       "       'Family/GeneralPractice', 'Cardiology', 'Surgery-General',\n",
       "       'Orthopedics', 'Norm', 'Gastroenterology',\n",
       "       'Surgery-Cardiovascular/Thoracic', 'Nephrology',\n",
       "       'Orthopedics-Reconstructive', 'Psychiatry', 'Emergency/Trauma',\n",
       "       'Pulmonology', 'Surgery-Neuro',\n",
       "       'Obsterics&Gynecology-GynecologicOnco', 'ObstetricsandGynecology',\n",
       "       'Pediatrics', 'Hematology/Oncology', 'Otolaryngology',\n",
       "       'Surgery-Colon&Rectal', 'Pediatrics-CriticalCare', 'Endocrinology',\n",
       "       'Urology', 'Psychiatry-Child/Adolescent', 'Pediatrics-Pulmonology',\n",
       "       'Neurology', 'Anesthesiology-Pediatric', 'Radiology',\n",
       "       'Pediatrics-Hematology-Oncology', 'Psychology', 'Podiatry',\n",
       "       'Gynecology', 'Oncology', 'Pediatrics-Neurology',\n",
       "       'Surgery-Plastic', 'Surgery-Thoracic',\n",
       "       'Surgery-PlasticwithinHeadandNeck', 'Ophthalmology',\n",
       "       'Surgery-Pediatric', 'Pediatrics-EmergencyMedicine',\n",
       "       'PhysicalMedicineandRehabilitation', 'InfectiousDiseases',\n",
       "       'Anesthesiology', 'Rheumatology', 'AllergyandImmunology',\n",
       "       'Surgery-Maxillofacial', 'Pediatrics-InfectiousDiseases',\n",
       "       'Pediatrics-AllergyandImmunology', 'Dentistry', 'Surgeon',\n",
       "       'Surgery-Vascular', 'Osteopath', 'Psychiatry-Addictive',\n",
       "       'Surgery-Cardiovascular', 'PhysicianNotFound', 'Hematology',\n",
       "       'Proctology', 'Obstetrics', 'SurgicalSpecialty', 'Radiologist',\n",
       "       'Pathology', 'Dermatology', 'SportsMedicine', 'Speech',\n",
       "       'Hospitalist', 'OutreachServices', 'Cardiology-Pediatric',\n",
       "       'Perinatology', 'Neurophysiology', 'Endocrinology-Metabolism',\n",
       "       'DCPTEAM', 'Resident'], dtype=object)"
      ]
     },
     "execution_count": 452,
     "metadata": {},
     "output_type": "execute_result"
    }
   ],
   "source": [
    "pd.unique(df.medical_specialty)"
   ]
  },
  {
   "cell_type": "code",
   "execution_count": 453,
   "metadata": {},
   "outputs": [
    {
     "data": {
      "text/plain": [
       "array(['Down', 'No', 'Norm', 'Steady', 'Up'], dtype=object)"
      ]
     },
     "execution_count": 453,
     "metadata": {},
     "output_type": "execute_result"
    }
   ],
   "source": [
    "np.unique(df.insulin)"
   ]
  },
  {
   "cell_type": "code",
   "execution_count": 472,
   "metadata": {},
   "outputs": [
    {
     "data": {
      "text/plain": [
       "array([ 1, 18, 13, 16,  8, 21, 12, 28, 17, 11, 15, 31,  2, 23, 19,  7, 20,\n",
       "       14, 10, 22,  9, 27, 25,  4, 32,  6, 30, 26, 24, 33,  5, 39,  3, 29,\n",
       "       61, 40, 46, 41, 36, 34, 35, 50, 43, 42, 37, 51, 38, 45, 54, 52, 49,\n",
       "       62, 55, 47, 44, 53, 48, 57, 59, 56, 60, 63, 58, 70, 67, 64, 69, 65,\n",
       "       68, 66, 81, 79, 75, 72, 74], dtype=int64)"
      ]
     },
     "execution_count": 472,
     "metadata": {},
     "output_type": "execute_result"
    }
   ],
   "source": [
    "pd.unique(df.num_medications                                                       )"
   ]
  },
  {
   "cell_type": "code",
   "execution_count": 470,
   "metadata": {},
   "outputs": [
    {
     "name": "stdout",
     "output_type": "stream",
     "text": [
      "<class 'pandas.core.frame.DataFrame'>\n",
      "Int64Index: 101766 entries, 2278392 to 443867222\n",
      "Data columns (total 49 columns):\n",
      " #   Column                    Non-Null Count   Dtype \n",
      "---  ------                    --------------   ----- \n",
      " 0   patient_nbr               101766 non-null  int64 \n",
      " 1   race                      99493 non-null   object\n",
      " 2   gender                    101766 non-null  object\n",
      " 3   age                       101766 non-null  object\n",
      " 4   weight                    3197 non-null    object\n",
      " 5   admission_type_id         101766 non-null  int64 \n",
      " 6   discharge_disposition_id  101766 non-null  int64 \n",
      " 7   admission_source_id       101766 non-null  int64 \n",
      " 8   time_in_hospital          101766 non-null  int64 \n",
      " 9   payer_code                61510 non-null   object\n",
      " 10  medical_specialty         51817 non-null   object\n",
      " 11  num_lab_procedures        101766 non-null  int64 \n",
      " 12  num_procedures            101766 non-null  int64 \n",
      " 13  num_medications           101766 non-null  int64 \n",
      " 14  number_outpatient         101766 non-null  int64 \n",
      " 15  number_emergency          101766 non-null  int64 \n",
      " 16  number_inpatient          101766 non-null  int64 \n",
      " 17  diag_1                    101745 non-null  object\n",
      " 18  diag_2                    101408 non-null  object\n",
      " 19  diag_3                    100343 non-null  object\n",
      " 20  number_diagnoses          101766 non-null  int64 \n",
      " 21  max_glu_serum             101766 non-null  object\n",
      " 22  A1Cresult                 101766 non-null  object\n",
      " 23  metformin                 101766 non-null  object\n",
      " 24  repaglinide               101766 non-null  object\n",
      " 25  nateglinide               101766 non-null  object\n",
      " 26  chlorpropamide            101766 non-null  object\n",
      " 27  glimepiride               101766 non-null  object\n",
      " 28  acetohexamide             101766 non-null  object\n",
      " 29  glipizide                 101766 non-null  object\n",
      " 30  glyburide                 101766 non-null  object\n",
      " 31  tolbutamide               101766 non-null  object\n",
      " 32  pioglitazone              101766 non-null  object\n",
      " 33  rosiglitazone             101766 non-null  object\n",
      " 34  acarbose                  101766 non-null  object\n",
      " 35  miglitol                  101766 non-null  object\n",
      " 36  troglitazone              101766 non-null  object\n",
      " 37  tolazamide                101766 non-null  object\n",
      " 38  examide                   101766 non-null  object\n",
      " 39  citoglipton               101766 non-null  object\n",
      " 40  insulin                   101766 non-null  object\n",
      " 41  glyburide-metformin       101766 non-null  object\n",
      " 42  glipizide-metformin       101766 non-null  object\n",
      " 43  glimepiride-pioglitazone  101766 non-null  object\n",
      " 44  metformin-rosiglitazone   101766 non-null  object\n",
      " 45  metformin-pioglitazone    101766 non-null  object\n",
      " 46  change                    101766 non-null  object\n",
      " 47  diabetesMed               101766 non-null  object\n",
      " 48  readmitted                101766 non-null  object\n",
      "dtypes: int64(12), object(37)\n",
      "memory usage: 38.8+ MB\n"
     ]
    }
   ],
   "source": [
    "df.info()"
   ]
  },
  {
   "cell_type": "code",
   "execution_count": null,
   "metadata": {},
   "outputs": [],
   "source": []
  }
 ],
 "metadata": {
  "kernelspec": {
   "display_name": "cellpose",
   "language": "python",
   "name": "cellpose"
  },
  "language_info": {
   "codemirror_mode": {
    "name": "ipython",
    "version": 3
   },
   "file_extension": ".py",
   "mimetype": "text/x-python",
   "name": "python",
   "nbconvert_exporter": "python",
   "pygments_lexer": "ipython3",
   "version": "3.8.18"
  }
 },
 "nbformat": 4,
 "nbformat_minor": 4
}
